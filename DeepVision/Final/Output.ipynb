{
 "cells": [
  {
   "cell_type": "code",
   "execution_count": 1,
   "metadata": {
    "ExecuteTime": {
     "end_time": "2022-05-31T13:18:55.270474Z",
     "start_time": "2022-05-31T13:18:54.447199Z"
    }
   },
   "outputs": [],
   "source": [
    "import numpy as np\n",
    "import matplotlib.pyplot as plt\n",
    "import os\n",
    "import torch\n",
    "\n",
    "from exercise_code.data.segmentation_dataset import SegmentationData, label_img_to_rgb\n",
    "from exercise_code.data.download_utils import download_dataset\n",
    "from exercise_code.util import visualizer, save_model\n",
    "from exercise_code.util.Util import checkSize, checkParams, test\n",
    "from exercise_code.networks.segmentation_nn import SegmentationNN, DummySegmentationModel\n",
    "from exercise_code.tests import test_seg_nn\n",
    "#set up default cuda device\n",
    "device = torch.device(\"cuda:0\" if torch.cuda.is_available() else \"cpu\")\n",
    "\n",
    "%matplotlib inline\n",
    "plt.rcParams['figure.figsize'] = (10.0, 8.0) # set default size of plots\n",
    "plt.rcParams['image.interpolation'] = 'nearest'\n",
    "plt.rcParams['image.cmap'] = 'gray'\n",
    "\n",
    "# for auto-reloading external modules\n",
    "# see http://stackoverflow.com/questions/1907993/autoreload-of-modules-in-ipython\n",
    "%load_ext autoreload\n",
    "%autoreload 2"
   ]
  },
  {
   "cell_type": "code",
   "execution_count": 2,
   "metadata": {
    "ExecuteTime": {
     "end_time": "2022-05-31T13:18:57.816068Z",
     "start_time": "2022-05-31T13:18:55.271798Z"
    }
   },
   "outputs": [],
   "source": [
    "model = torch.load('finalmodel.pt')\n",
    "model.eval()\n",
    "model = model.to('cuda') "
   ]
  },
  {
   "cell_type": "code",
   "execution_count": 3,
   "metadata": {
    "ExecuteTime": {
     "end_time": "2022-05-31T13:18:57.827496Z",
     "start_time": "2022-05-31T13:18:57.817011Z"
    }
   },
   "outputs": [],
   "source": [
    "import os\n",
    "\n",
    "import numpy as np\n",
    "import torch\n",
    "import torch.utils.data as data\n",
    "from PIL import Image\n",
    "from torchvision import transforms"
   ]
  },
  {
   "cell_type": "code",
   "execution_count": 4,
   "metadata": {
    "ExecuteTime": {
     "end_time": "2022-05-31T13:18:57.839315Z",
     "start_time": "2022-05-31T13:18:57.828381Z"
    }
   },
   "outputs": [],
   "source": [
    "def output(model,filename):\n",
    "    img = Image.open(filename).convert('RGB')\n",
    "    w, h = img.size\n",
    "    to_tensor = transforms.ToTensor()\n",
    "    small_size = transforms.Resize((256,256))\n",
    "    orig_size = transforms.Resize((h,w))\n",
    "    \n",
    "    img = small_size(img)\n",
    "    img = to_tensor(img).to('cuda')\n",
    "    img = img.unsqueeze(0)\n",
    "    outputs = model.forward(img)\n",
    "    _, preds = torch.max(outputs, 1)\n",
    "    pred = preds.data.cpu().numpy()\n",
    "    pred = label_img_to_rgb(pred)\n",
    "    pred=Image.fromarray(pred)\n",
    "    pred = orig_size(pred)\n",
    "    pred.save(filename[:-3]+'png')\n",
    "    #pred = orig_size(pred)\n",
    "    \n"
   ]
  },
  {
   "cell_type": "code",
   "execution_count": 8,
   "metadata": {
    "ExecuteTime": {
     "end_time": "2022-06-01T05:15:49.891566Z",
     "start_time": "2022-06-01T05:15:45.472868Z"
    }
   },
   "outputs": [],
   "source": [
    "filelist = []\n",
    "for i in range(200):\n",
    "    filelist.append('Testing/'+str(i)+'.jpg')\n",
    "for i in filelist:\n",
    "    output(model,i)"
   ]
  },
  {
   "cell_type": "code",
   "execution_count": null,
   "metadata": {},
   "outputs": [],
   "source": []
  }
 ],
 "metadata": {
  "kernelspec": {
   "display_name": "Python 3",
   "language": "python",
   "name": "python3"
  },
  "language_info": {
   "codemirror_mode": {
    "name": "ipython",
    "version": 3
   },
   "file_extension": ".py",
   "mimetype": "text/x-python",
   "name": "python",
   "nbconvert_exporter": "python",
   "pygments_lexer": "ipython3",
   "version": "3.8.10"
  }
 },
 "nbformat": 4,
 "nbformat_minor": 4
}
