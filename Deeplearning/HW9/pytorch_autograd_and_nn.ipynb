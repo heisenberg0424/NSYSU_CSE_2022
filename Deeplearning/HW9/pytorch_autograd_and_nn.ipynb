{
 "cells": [
  {
   "cell_type": "markdown",
   "metadata": {
    "id": "DDJwQPZcupab"
   },
   "source": [
    "# Homework 9: Pytorch Autograd and NN\n"
   ]
  },
  {
   "cell_type": "markdown",
   "metadata": {
    "id": "aQW_w1Wzw72f",
    "tags": [
     "pdf-title"
    ]
   },
   "source": [
    "# [torch.autograd](https://pytorch.org/docs/stable/autograd.html) and [torch.nn](https://pytorch.org/docs/stable/nn.html)\n",
    "\n",
    "So far, we used PyTorch to accelarate computation using GPU.\n",
    "PyTorch also provides several useful packages, which help to design deep neural networks efficiently.\n",
    "\n",
    "The `torch.autograd` package provides classes and functions implementing automatic differentiation of arbitrary scalar valued functions.\n",
    "\n",
    "This notebook assumes that you are using **PyTorch version 1.3 or above**.\n",
    "In some of the previous versions (e.g. before 0.4), Tensors had to be wrapped in `torch.autograd.Variable` objects to enable autograd;\n",
    "however this class has now been deprecated and merged with `torch.Tensor`.\n",
    "In addition 1.0 also separates a Tensor's datatype from its device, and uses numpy-style factories for constructing Tensors rather than directly invoking Tensor constructors.\n",
    "Now, to obtain gradients for a tensor via autograd from arbitrary scalar valued functions, you can simply set `requires_grad=True`.\n",
    "\n",
    "The `torch.nn` package defines a set of Modules, which you can think of as a neural network layer that has produces output from input and may have some trainable weights.\n",
    "\n",
    "You can also find the detailed [API doc](http://pytorch.org/docs/stable/index.html) here.\n",
    "If you have other questions that are not addressed by the API docs, the [PyTorch forum](https://discuss.pytorch.org/) is a much better place to ask than StackOverflow.\n"
   ]
  },
  {
   "cell_type": "markdown",
   "metadata": {
    "id": "ED0jpoGyIL_B",
    "tags": [
     "pdf-ignore"
    ]
   },
   "source": [
    "# Table of Contents\n",
    "\n",
    "This homework has 5 parts. You will learn PyTorch on **three different levels of abstraction**, which will help you understand it better.\n",
    "\n",
    "1. Part I, Preparation: As we always do, we will use CIFAR-10 dataset.\n",
    "2. Part II, Barebones PyTorch: **Abstraction level 1**, we will work directly with the lowest-level PyTorch Tensors with autograd.\n",
    "3. Part III, PyTorch Module API: **Abstraction level 2**, we will use `nn.Module` to define an arbitrary neural network architecture. \n",
    "4. Part IV, PyTorch Sequential API: **Abstraction level 3**, we will use `nn.Sequential` to define a fully-connected and convolutional network very conveniently. \n",
    "5. Part V, Residual Network: please implement your own ResNet to get a high accuracy on CIFAR-10.\n",
    "\n",
    "Here is a table of comparison:\n",
    "\n",
    "| API             | Flexibility | Convenience |\n",
    "|-----------------|-------------|-------------|\n",
    "| Barebone        | High        | Low         |\n",
    "| `nn.Module`     | High        | Medium      |\n",
    "| `nn.Sequential` | Low         | High        |"
   ]
  },
  {
   "cell_type": "markdown",
   "metadata": {
    "id": "7LCmGZ_3IL_V"
   },
   "source": [
    "# Part I. Preparation"
   ]
  },
  {
   "cell_type": "markdown",
   "metadata": {
    "id": "ubB_0e-UAOVK"
   },
   "source": [
    "Before getting started we need to run some boilerplate code to set up our environment. You'll need to rerun this setup code each time you start the notebook.\n",
    "\n",
    "First, run this cell load the [autoreload](https://ipython.readthedocs.io/en/stable/config/extensions/autoreload.html?highlight=autoreload) extension. This allows us to edit `.py` source files, and re-import them into the notebook for a seamless editing and debugging experience."
   ]
  },
  {
   "cell_type": "code",
   "execution_count": 1,
   "metadata": {
    "id": "ASkY27ZtA7Is"
   },
   "outputs": [],
   "source": [
    "%load_ext autoreload\n",
    "%autoreload 2"
   ]
  },
  {
   "cell_type": "markdown",
   "metadata": {
    "id": "rseA2LOaXlpf"
   },
   "source": [
    "### Google Colab Setup\n",
    "\n",
    "Next we need to run a few commands to set up our environment on Google Colab. If you are running this notebook on a local machine you can skip this section.\n",
    "\n",
    "Run the following cell to mount your Google Drive. Follow the link, sign in to your Google account (the same account you used to store this notebook!) and copy the authorization code into the text box that appears below."
   ]
  },
  {
   "cell_type": "code",
   "execution_count": 2,
   "metadata": {
    "colab": {
     "base_uri": "https://localhost:8080/"
    },
    "executionInfo": {
     "elapsed": 18808,
     "status": "ok",
     "timestamp": 1618965876204,
     "user": {
      "displayName": "Chao-Kai Wen",
      "photoUrl": "https://lh3.googleusercontent.com/a-/AOh14GhvRkGqRo8KO0yf620ycuDgopRffj66KoETUXNr=s64",
      "userId": "03615602679925463409"
     },
     "user_tz": -480
    },
    "id": "qXyYCFDnXkee",
    "outputId": "db401b68-9d62-4481-9fb5-de5f17fec9fb"
   },
   "outputs": [],
   "source": [
    "# from google.colab import drive\n",
    "# drive.mount('/content/drive')"
   ]
  },
  {
   "cell_type": "markdown",
   "metadata": {
    "id": "A3ITvb-mXyCs"
   },
   "source": [
    "Now recall the path in your Google Drive where you uploaded this notebook, fill it in below. If everything is working correctly then running the folowing cell should print the filenames from the assignment:\n",
    "\n",
    "```\n",
    "[ 'a4_helper.py', 'usefuns', 'pytorch_autograd_and_nn.py', 'pytorch_autograd_and_nn.ipynb']\n",
    "```"
   ]
  },
  {
   "cell_type": "code",
   "execution_count": 3,
   "metadata": {
    "colab": {
     "base_uri": "https://localhost:8080/"
    },
    "executionInfo": {
     "elapsed": 19208,
     "status": "ok",
     "timestamp": 1618965876610,
     "user": {
      "displayName": "Chao-Kai Wen",
      "photoUrl": "https://lh3.googleusercontent.com/a-/AOh14GhvRkGqRo8KO0yf620ycuDgopRffj66KoETUXNr=s64",
      "userId": "03615602679925463409"
     },
     "user_tz": -480
    },
    "id": "BMop7WhzX5GT",
    "outputId": "e3eca9e7-b343-4aa0-9702-3fb68ecf204e"
   },
   "outputs": [],
   "source": [
    "# import os\n",
    "\n",
    "# # TODO: Fill in the Google Drive path where you uploaded the assignment\n",
    "# # Example: If you create a 2021DL folder and put all the files under A0 folder, then '2021DL/A0'\n",
    "# # GOOGLE_DRIVE_PATH_AFTER_MYDRIVE = '2021DL/A0'\n",
    "# GOOGLE_DRIVE_PATH_AFTER_MYDRIVE = 'Colab Notebooks/A4' # Please change to your folder\n",
    "# GOOGLE_DRIVE_PATH = os.path.join('drive', 'My Drive', GOOGLE_DRIVE_PATH_AFTER_MYDRIVE)\n",
    "# print(os.listdir(GOOGLE_DRIVE_PATH))"
   ]
  },
  {
   "cell_type": "markdown",
   "metadata": {
    "id": "t8MhujYNbSir"
   },
   "source": [
    "Once you have successfully mounted your Google Drive and located the path to this assignment, run th following cell to allow us to import from the `.py` files of this assignment. If it works correctly, it should print the message:\n",
    "\n",
    "```\n",
    "Hello from pytorch_autograd_and_nn.py!\n",
    "```\n",
    "\n",
    "as well as the last edit time for the file `pytorch_autograd_and_nn.py`."
   ]
  },
  {
   "cell_type": "code",
   "execution_count": 4,
   "metadata": {
    "colab": {
     "base_uri": "https://localhost:8080/"
    },
    "executionInfo": {
     "elapsed": 23985,
     "status": "ok",
     "timestamp": 1618965881393,
     "user": {
      "displayName": "Chao-Kai Wen",
      "photoUrl": "https://lh3.googleusercontent.com/a-/AOh14GhvRkGqRo8KO0yf620ycuDgopRffj66KoETUXNr=s64",
      "userId": "03615602679925463409"
     },
     "user_tz": -480
    },
    "id": "pGJoaRyybcka",
    "outputId": "1361335e-d59a-4f18-af2b-048b81fa88ec"
   },
   "outputs": [
    {
     "name": "stdout",
     "output_type": "stream",
     "text": [
      "Hello from pytorch_autograd_and_nn.py!\n"
     ]
    }
   ],
   "source": [
    "import sys\n",
    "#sys.path.append(GOOGLE_DRIVE_PATH)\n",
    "\n",
    "import time, os\n",
    "os.environ[\"TZ\"] = \"UTC\"\n",
    "time.tzset()\n",
    "\n",
    "from pytorch_autograd_and_nn import *\n",
    "from a4_helper import *\n",
    "hello()\n",
    "\n",
    "# py_path = os.path.join(GOOGLE_DRIVE_PATH, 'pytorch_autograd_and_nn.py')\n",
    "# py_edit_time = time.ctime(os.path.getmtime(py_path))\n",
    "# print('pytorch_autograd_and_nn.py last edited on %s' % py_edit_time)"
   ]
  },
  {
   "cell_type": "markdown",
   "metadata": {
    "id": "MzqbYcKdz6ew"
   },
   "source": [
    "### Load Packages\n",
    "\n",
    "Run some setup code for this notebook: Import some useful packages and increase the default figure size."
   ]
  },
  {
   "cell_type": "code",
   "execution_count": 5,
   "metadata": {
    "id": "Q8o3FxatIL_X",
    "tags": [
     "pdf-ignore"
    ]
   },
   "outputs": [],
   "source": [
    "import torch\n",
    "import torch.nn as nn\n",
    "import torch.nn.functional as F\n",
    "import torch.optim as optim\n",
    "from usefuns.utils import reset_seed\n",
    "from collections import OrderedDict\n",
    "\n",
    "# for plotting\n",
    "import matplotlib.pyplot as plt\n",
    "plt.rcParams['figure.figsize'] = (10.0, 8.0) # set default size of plots\n",
    "plt.rcParams['image.interpolation'] = 'nearest'\n",
    "plt.rcParams['image.cmap'] = 'gray'\n",
    "\n",
    "%matplotlib inline"
   ]
  },
  {
   "cell_type": "markdown",
   "metadata": {
    "id": "xcPWzzO3gVE2"
   },
   "source": [
    "We will use the GPU to accelerate our computation. Run this cell to make sure you are using a GPU.\n",
    "\n",
    "We will be using `torch.float = torch.float32` for data and `torch.long = torch.int64` for labels.\n",
    "\n",
    "Please refer to https://pytorch.org/docs/stable/tensor_attributes.html#torch-dtype for more details about data types."
   ]
  },
  {
   "cell_type": "code",
   "execution_count": 6,
   "metadata": {
    "colab": {
     "base_uri": "https://localhost:8080/"
    },
    "executionInfo": {
     "elapsed": 26318,
     "status": "ok",
     "timestamp": 1618965883735,
     "user": {
      "displayName": "Chao-Kai Wen",
      "photoUrl": "https://lh3.googleusercontent.com/a-/AOh14GhvRkGqRo8KO0yf620ycuDgopRffj66KoETUXNr=s64",
      "userId": "03615602679925463409"
     },
     "user_tz": -480
    },
    "id": "blz1sXlkIL_q",
    "outputId": "abcde890-fd46-4bdb-86ff-1cb588392680",
    "tags": [
     "pdf-ignore-input"
    ]
   },
   "outputs": [
    {
     "name": "stdout",
     "output_type": "stream",
     "text": [
      "Good to go!\n"
     ]
    }
   ],
   "source": [
    "to_float = torch.float\n",
    "to_long = torch.long\n",
    "\n",
    "if torch.cuda.is_available:\n",
    "  print('Good to go!')\n",
    "else:\n",
    "  print('Please set GPU via Edit -> Notebook Settings.')"
   ]
  },
  {
   "cell_type": "markdown",
   "metadata": {
    "id": "UnprYqtnfzzE"
   },
   "source": [
    "### Load CIFAR\n",
    "Firstly, we will load the CIFAR-10 dataset. The utility function `load_CIFAR()` in `a4_helper` returns training, validaton and testing dataloaders for CIFAR-10 dataset. We are using [torchvision.datasets.CIFAR10](https://pytorch.org/docs/stable/torchvision/datasets.html?highlight=cifar#torchvision.datasets.CIFAR10) to download the CIFAR-10 dataset."
   ]
  },
  {
   "cell_type": "code",
   "execution_count": 7,
   "metadata": {
    "colab": {
     "base_uri": "https://localhost:8080/",
     "height": 140,
     "referenced_widgets": [
      "4778c4dd77394d679d728db84db7679f",
      "ac76373e8f914547a75d450ea167e7ea",
      "494d03a0b9cf4fd688854ad09841e378",
      "b1a9bee6a2ee4463b4820c2dad38f4ed",
      "ed640196693c437cbc9a6ef8a1e0073e",
      "e70ce0e685f4411f83c7c373b8eb08b4",
      "dac6175f79404ff8b1c73964c45cd7bc",
      "ed9e1ad6395e484aba0b71b3c96cbcf2"
     ]
    },
    "executionInfo": {
     "elapsed": 32558,
     "status": "ok",
     "timestamp": 1618965889981,
     "user": {
      "displayName": "Chao-Kai Wen",
      "photoUrl": "https://lh3.googleusercontent.com/a-/AOh14GhvRkGqRo8KO0yf620ycuDgopRffj66KoETUXNr=s64",
      "userId": "03615602679925463409"
     },
     "user_tz": -480
    },
    "id": "-XB6NUX0IL_f",
    "outputId": "bb46c1c3-c086-41de-daa5-05fbb3fee187",
    "tags": [
     "pdf-ignore"
    ]
   },
   "outputs": [
    {
     "name": "stdout",
     "output_type": "stream",
     "text": [
      "Files already downloaded and verified\n",
      "Files already downloaded and verified\n",
      "Files already downloaded and verified\n"
     ]
    }
   ],
   "source": [
    "loader_train, loader_val, loader_test = load_CIFAR(path='./datasets/')"
   ]
  },
  {
   "cell_type": "markdown",
   "metadata": {
    "id": "mazLauPlIL_5"
   },
   "source": [
    "# Part II. Barebones PyTorch\n",
    "\n",
    "PyTorch ships with high-level APIs to help us define model architectures conveniently, which we will cover in Part II of this tutorial. In this section, we will start with the barebone PyTorch elements to understand the autograd engine better. After this exercise, you will come to appreciate the high-level model API more.\n",
    "\n",
    "We will start with a simple fully-connected ReLU network with two hidden layers and no biases for CIFAR classification. \n",
    "This implementation computes the forward pass using operations on PyTorch Tensors, and uses PyTorch autograd to compute gradients. It is important that you understand every line, because you will write a harder version after the example.\n",
    "\n",
    "When we create a PyTorch Tensor with `requires_grad=True`, then operations involving that Tensor will not just compute values; they will also build up a computational graph in the background, allowing us to easily backpropagate through the graph to compute gradients of some Tensors with respect to a downstream loss. Concretely, if `x` is a Tensor with `x.requires_grad == True` then after backpropagation `x.grad` will be another Tensor holding the gradient of `x` with respect to the scalar loss at the end."
   ]
  },
  {
   "cell_type": "markdown",
   "metadata": {
    "id": "3rPnppVkIMAB",
    "tags": [
     "pdf-ignore"
    ]
   },
   "source": [
    "### Barebones PyTorch: Two-Layer Network\n",
    "\n",
    "Here we define a function `two_layer_fc` which performs the forward pass of a two-layer fully-connected ReLU network on a batch of image data. After defining the forward pass we check that it doesn't crash and that it produces outputs of the right shape by running zeros through the network.\n",
    "\n",
    "You don't have to write any code here, but it's important that you read and understand the implementation."
   ]
  },
  {
   "cell_type": "code",
   "execution_count": 8,
   "metadata": {
    "colab": {
     "base_uri": "https://localhost:8080/"
    },
    "executionInfo": {
     "elapsed": 33092,
     "status": "ok",
     "timestamp": 1618965890522,
     "user": {
      "displayName": "Chao-Kai Wen",
      "photoUrl": "https://lh3.googleusercontent.com/a-/AOh14GhvRkGqRo8KO0yf620ycuDgopRffj66KoETUXNr=s64",
      "userId": "03615602679925463409"
     },
     "user_tz": -480
    },
    "id": "D6PqRQwlIMAC",
    "outputId": "53e321d0-f516-499d-954a-df7fa6bd97a8",
    "tags": [
     "pdf-ignore-input"
    ]
   },
   "outputs": [],
   "source": [
    "def two_layer_fc(x, params):\n",
    "  \"\"\"\n",
    "  A fully-connected neural networks; the architecture is:\n",
    "  NN is fully connected -> ReLU -> fully connected layer.\n",
    "  Note that this function only defines the forward pass; \n",
    "  PyTorch will take care of the backward pass for us.\n",
    "  \n",
    "  The input to the network will be a minibatch of data, of shape\n",
    "  (N, d1, ..., dM) where d1 * ... * dM = D. The hidden layer will have H units,\n",
    "  and the output layer will produce scores for C classes.\n",
    "  \n",
    "  Inputs:\n",
    "  - x: A PyTorch Tensor of shape (N, d1, ..., dM) giving a minibatch of\n",
    "    input data.\n",
    "  - params: A list [w1, w2] of PyTorch Tensors giving weights for the network;\n",
    "    w1 has shape (H, D) and w2 has shape (C, H).\n",
    "  \n",
    "  Returns:\n",
    "  - scores: A PyTorch Tensor of shape (N, C) giving classification scores for\n",
    "    the input data x.\n",
    "  \"\"\"\n",
    "  # first we flatten the image\n",
    "  x = flatten(x)  # shape: [batch_size, C x H x W]\n",
    "  \n",
    "  w1, b1, w2, b2 = params\n",
    "  \n",
    "  # Forward pass: compute predicted y using operations on Tensors. Since w1 and\n",
    "  # w2 have requires_grad=True, operations involving these Tensors will cause\n",
    "  # PyTorch to build a computational graph, allowing automatic computation of\n",
    "  # gradients. Since we are no longer implementing the backward pass by hand we\n",
    "  # don't need to keep references to intermediate values.\n",
    "  # Note that F.linear(x, w, b) is equivalent to x.mm(w.t()) + b\n",
    "  # For ReLU, you can also use `.clamp(min=0)`, equivalent to `F.relu()`\n",
    "  x = F.relu(F.linear(x, w1, b1))\n",
    "  x = F.linear(x, w2, b2)\n",
    "  return x\n",
    "    \n",
    "\n",
    "def two_layer_fc_test():\n",
    "  hidden_layer_size = 42\n",
    "  x = torch.zeros((64, 3, 16, 16), dtype=to_float)  # minibatch size 64, feature dimension 3*16*16\n",
    "  w1 = torch.zeros((hidden_layer_size, 3*16*16), dtype=to_float)\n",
    "  b1 = torch.zeros((hidden_layer_size,), dtype=to_float)\n",
    "  w2 = torch.zeros((10, hidden_layer_size), dtype=to_float)\n",
    "  b2 = torch.zeros((10,), dtype=to_float)\n",
    "  scores = two_layer_fc(x, [w1, b1, w2, b2])\n",
    "  print('Output size:', list(scores.size()))  # you should see [64, 10]\n",
    "\n",
    "#two_layer_fc_test()"
   ]
  },
  {
   "cell_type": "markdown",
   "metadata": {
    "id": "muCDvYEKIMAJ"
   },
   "source": [
    "### Barebones PyTorch: Three-Layer ConvNet\n",
    "\n",
    "Here you will complete the implementation of the function `three_layer_convnet`, which will perform the forward pass of a three-layer convolutional network. Like above, we can immediately test our implementation by passing zeros through the network. The network should have the following architecture:\n",
    "\n",
    "1. A convolutional layer (with bias) with `channel_1` filters, each with shape `kernel_size_1 x kernel_size_1`, and zero-padding of two\n",
    "2. ReLU nonlinearity\n",
    "3. A convolutional layer (with bias) with `channel_2` filters, each with shape `kernel_size_2 x kernel_size_2`, and zero-padding of one\n",
    "4. ReLU nonlinearity\n",
    "5. Fully-connected layer with bias, producing scores for C classes.\n",
    "\n",
    "Note that we have **no softmax activation** here after our fully-connected layer: this is because PyTorch's cross entropy loss performs a softmax activation for you, and by bundling that step in makes computation more efficient.\n",
    "\n",
    "**HINT**: For convolutions: https://pytorch.org/docs/stable/nn.functional.html#torch.nn.functional.conv2d; pay attention to the shapes of convolutional filters! You can use `print(tensor.shape)` for debugging the shapes after each intemidiate layer."
   ]
  },
  {
   "cell_type": "markdown",
   "metadata": {
    "id": "Z7Cg9qvTIMAR"
   },
   "source": [
    "Implement `three_layer_convnet` and run the cell below to test it. When you run this function, scores should have shape (64, 10)."
   ]
  },
  {
   "cell_type": "code",
   "execution_count": 9,
   "metadata": {
    "colab": {
     "base_uri": "https://localhost:8080/"
    },
    "executionInfo": {
     "elapsed": 33086,
     "status": "ok",
     "timestamp": 1618965890523,
     "user": {
      "displayName": "Chao-Kai Wen",
      "photoUrl": "https://lh3.googleusercontent.com/a-/AOh14GhvRkGqRo8KO0yf620ycuDgopRffj66KoETUXNr=s64",
      "userId": "03615602679925463409"
     },
     "user_tz": -480
    },
    "id": "1kEMMi4QIMAa",
    "outputId": "57dcc370-5a75-4380-b1d4-42462055e5a5",
    "tags": [
     "pdf-ignore-input"
    ]
   },
   "outputs": [],
   "source": [
    "def three_layer_convnet_test():\n",
    "  x = torch.zeros((64, 3, 32, 32), dtype=to_float)  # minibatch size 64, image size [3, 32, 32]\n",
    "\n",
    "  conv_w1 = torch.zeros((6, 3, 5, 5), dtype=to_float)  # [out_channel, in_channel, kernel_H, kernel_W]\n",
    "  conv_b1 = torch.zeros((6,))  # out_channel\n",
    "  conv_w2 = torch.zeros((9, 6, 3, 3), dtype=to_float)  # [out_channel, in_channel, kernel_H, kernel_W]\n",
    "  conv_b2 = torch.zeros((9,))  # out_channel\n",
    "\n",
    "  # you must calculate the shape of the tensor after two conv layers, before the fully-connected layer\n",
    "  fc_w = torch.zeros((10, 9 * 32 * 32))\n",
    "  fc_b = torch.zeros(10)\n",
    "\n",
    "  # YOUR_TURN: Impelement the three_layer_convnet function\n",
    "  scores = three_layer_convnet(x, [conv_w1, conv_b1, conv_w2, conv_b2, fc_w, fc_b])\n",
    "  print('Output size:', list(scores.size()))  # you should see [64, 10]\n",
    "#three_layer_convnet_test()"
   ]
  },
  {
   "cell_type": "markdown",
   "metadata": {
    "id": "WBStmY2yIMAh"
   },
   "source": [
    "### Barebones PyTorch: Kaiming Initialization\n",
    "In this part, we are going to use [Kaiming initialization](https://arxiv.org/abs/1502.01852), which you already implemented in Homework 6.\n",
    "\n",
    "Fortunately, PyTorch already provides a function, so we will use this:\n",
    "[torch.nn.init.kaiming_normal_](https://pytorch.org/docs/stable/nn.init.html#torch.nn.init.kaiming_normal_)\n",
    "\n",
    "By default, `gain = 2`, because this function assumes that ReLU activation follows.\n",
    "This is true in the linear and convolutional layers in the models you are going to implement, except for the last fully-connected layer:\n",
    "in principle, we should give `gain = 1` because ReLU is not applied there.\n",
    "However, as stated in the [original paper](https://arxiv.org/abs/1502.01852), since the factor 1/2 does not matter if it just exists on one layer, we are going to keep using `gain = 2` for simplicity.\n",
    "\n",
    "For more details on initialization methods provided by PyTorch, see https://pytorch.org/docs/stable/nn.init.html."
   ]
  },
  {
   "cell_type": "code",
   "execution_count": 10,
   "metadata": {
    "colab": {
     "base_uri": "https://localhost:8080/"
    },
    "executionInfo": {
     "elapsed": 44419,
     "status": "ok",
     "timestamp": 1618965901862,
     "user": {
      "displayName": "Chao-Kai Wen",
      "photoUrl": "https://lh3.googleusercontent.com/a-/AOh14GhvRkGqRo8KO0yf620ycuDgopRffj66KoETUXNr=s64",
      "userId": "03615602679925463409"
     },
     "user_tz": -480
    },
    "id": "_rf9JRh5IMAj",
    "outputId": "1a9a9131-4b4b-4c4b-d0c2-7478852807d6",
    "tags": [
     "pdf-ignore-input"
    ]
   },
   "outputs": [
    {
     "name": "stdout",
     "output_type": "stream",
     "text": [
      "tensor([[-0.5848, -0.2690, -1.6721,  0.0918, -0.0764],\n",
      "        [-0.3667, -0.3939, -0.2077, -0.6796, -0.2297],\n",
      "        [-1.0569,  1.4328,  0.1971, -0.1165,  0.8137]], device='cuda:0')\n",
      "tensor([[0., 0., 0., 0., 0.],\n",
      "        [0., 0., 0., 0., 0.],\n",
      "        [0., 0., 0., 0., 0.]], device='cuda:0')\n"
     ]
    }
   ],
   "source": [
    "reset_seed(0)\n",
    "\n",
    "# create a weight of shape [3 x 5]\n",
    "print(nn.init.kaiming_normal_(torch.empty(3, 5, dtype=to_float, device='cuda')))\n",
    "print(nn.init.zeros_(torch.empty(3 ,5, dtype=to_float, device='cuda')))"
   ]
  },
  {
   "cell_type": "markdown",
   "metadata": {
    "id": "akQqCObPIMAo"
   },
   "source": [
    "### Barebones PyTorch: Check Accuracy\n",
    "When training the model we will use the following function to check the accuracy of our model on the training or validation sets.\n",
    "\n",
    "When checking accuracy we don't need to compute any gradients; as a result we don't need PyTorch to build a computational graph for us when we compute scores. To prevent a graph from being built we scope our computation under a `torch.no_grad()` context manager."
   ]
  },
  {
   "cell_type": "code",
   "execution_count": 11,
   "metadata": {
    "id": "l4xAUWASIMAq",
    "tags": [
     "pdf-ignore-input"
    ]
   },
   "outputs": [],
   "source": [
    "def check_accuracy_part2(loader, model_fn, params):\n",
    "  \"\"\"\n",
    "  Check the accuracy of a classification model.\n",
    "  \n",
    "  Inputs:\n",
    "  - loader: A DataLoader for the data split we want to check\n",
    "  - model_fn: A function that performs the forward pass of the model,\n",
    "    with the signature scores = model_fn(x, params)\n",
    "  - params: List of PyTorch Tensors giving parameters of the model\n",
    "  \n",
    "  Returns: Nothing, but prints the accuracy of the model\n",
    "  \"\"\"\n",
    "  split = 'val' if loader.dataset.train else 'test'\n",
    "  print('Checking accuracy on the %s set' % split)\n",
    "  num_correct, num_samples = 0, 0\n",
    "  with torch.no_grad():\n",
    "    for x, y in loader:\n",
    "      x = x.to(device='cuda', dtype=to_float)  # move to device, e.g. GPU\n",
    "      y = y.to(device='cuda', dtype=to_long)\n",
    "      scores = model_fn(x, params)\n",
    "      _, preds = scores.max(1)\n",
    "      num_correct += (preds == y).sum()\n",
    "      num_samples += preds.size(0)\n",
    "    acc = float(num_correct) / num_samples\n",
    "    print('Got %d / %d correct (%.2f%%)' % (num_correct, num_samples, 100 * acc))\n",
    "    return acc"
   ]
  },
  {
   "cell_type": "markdown",
   "metadata": {
    "id": "8LvPbM4WIMAv"
   },
   "source": [
    "### BareBones PyTorch: Training Loop\n",
    "We can now set up a basic training loop to train our network. We will train the model using stochastic gradient descent without momentum. We will use `torch.nn.functional.cross_entropy` to compute the loss; you can [read about it here](https://pytorch.org/docs/stable/nn.html#crossentropyloss).\n",
    "\n",
    "The training loop takes as input the neural network function, a list of initialized parameters (`[w1, w2]` in our example), and learning rate."
   ]
  },
  {
   "cell_type": "code",
   "execution_count": 12,
   "metadata": {
    "id": "WYGBD0YZIMAx",
    "tags": [
     "pdf-ignore-input"
    ]
   },
   "outputs": [],
   "source": [
    "def train_part2(model_fn, params, learning_rate):\n",
    "  \"\"\"\n",
    "  Train a model on CIFAR-10.\n",
    "  \n",
    "  Inputs:\n",
    "  - model_fn: A Python function that performs the forward pass of the model.\n",
    "    It should have the signature scores = model_fn(x, params) where x is a\n",
    "    PyTorch Tensor of image data, params is a list of PyTorch Tensors giving\n",
    "    model weights, and scores is a PyTorch Tensor of shape (N, C) giving\n",
    "    scores for the elements in x.\n",
    "  - params: List of PyTorch Tensors giving weights for the model\n",
    "  - learning_rate: Python scalar giving the learning rate to use for SGD\n",
    "  \n",
    "  Returns: Nothing\n",
    "  \"\"\"\n",
    "  for t, (x, y) in enumerate(loader_train):\n",
    "    # Move the data to the proper device (GPU or CPU)\n",
    "    x = x.to(device='cuda', dtype=to_float)\n",
    "    y = y.to(device='cuda', dtype=to_long)\n",
    "\n",
    "    # Forward pass: compute scores and loss\n",
    "    scores = model_fn(x, params)\n",
    "    loss = F.cross_entropy(scores, y)\n",
    "\n",
    "    # Backward pass: PyTorch figures out which Tensors in the computational\n",
    "    # graph has requires_grad=True and uses backpropagation to compute the\n",
    "    # gradient of the loss with respect to these Tensors, and stores the\n",
    "    # gradients in the .grad attribute of each Tensor.\n",
    "    loss.backward()\n",
    "\n",
    "    # Update parameters. We don't want to backpropagate through the\n",
    "    # parameter updates, so we scope the updates under a torch.no_grad()\n",
    "    # context manager to prevent a computational graph from being built.\n",
    "    with torch.no_grad():\n",
    "      for w in params:\n",
    "        if w.requires_grad:\n",
    "          w -= learning_rate * w.grad\n",
    "\n",
    "          # Manually zero the gradients after running the backward pass\n",
    "          w.grad.zero_()\n",
    "\n",
    "    if t % 100 == 0 or t == len(loader_train)-1:\n",
    "      print('Iteration %d, loss = %.4f' % (t, loss.item()))\n",
    "      acc = check_accuracy_part2(loader_val, model_fn, params)\n",
    "  return acc"
   ]
  },
  {
   "cell_type": "markdown",
   "metadata": {
    "id": "gkTNXK9cIMA6"
   },
   "source": [
    "### BareBones PyTorch: Train a Two-Layer Network\n",
    "Now we are ready to run the training loop. We need to explicitly allocate tensors for the fully connected weights, `w1` and `w2`. \n",
    "\n",
    "Each minibatch of CIFAR has 64 examples, so the tensor shape is `[64, 3, 32, 32]`. \n",
    "\n",
    "After flattening, `x` shape should be `[64, 3 * 32 * 32]`. This will be the size of the second dimension of `w1`. \n",
    "The first dimension of `w1` is the hidden layer size, which will also be the second dimension of `w2`. \n",
    "\n",
    "Finally, the output of the network is a 10-dimensional vector that represents the probability distribution over 10 classes. \n",
    "\n",
    "You don't need to tune any hyperparameters but you should see accuracies around 40% after training for one epoch."
   ]
  },
  {
   "cell_type": "code",
   "execution_count": 13,
   "metadata": {
    "colab": {
     "base_uri": "https://localhost:8080/"
    },
    "executionInfo": {
     "elapsed": 54084,
     "status": "ok",
     "timestamp": 1618965911537,
     "user": {
      "displayName": "Chao-Kai Wen",
      "photoUrl": "https://lh3.googleusercontent.com/a-/AOh14GhvRkGqRo8KO0yf620ycuDgopRffj66KoETUXNr=s64",
      "userId": "03615602679925463409"
     },
     "user_tz": -480
    },
    "id": "OSBSy0JTIMA8",
    "outputId": "752ef188-4f79-46de-d092-6a4b28cc5d32"
   },
   "outputs": [],
   "source": [
    "reset_seed(0)\n",
    "\n",
    "C, H, W = 3, 32, 32\n",
    "num_classes = 10\n",
    "\n",
    "hidden_layer_size = 4000\n",
    "learning_rate = 1e-2\n",
    "\n",
    "w1 = nn.init.kaiming_normal_(torch.empty(hidden_layer_size, C*H*W, dtype=to_float, device='cuda'))\n",
    "w1.requires_grad = True\n",
    "b1 = nn.init.zeros_(torch.empty(hidden_layer_size, dtype=to_float, device='cuda'))\n",
    "b1.requires_grad = True\n",
    "w2 = nn.init.kaiming_normal_(torch.empty(num_classes, hidden_layer_size, dtype=to_float, device='cuda'))\n",
    "w2.requires_grad = True\n",
    "b2 = nn.init.zeros_(torch.empty(num_classes, dtype=to_float, device='cuda'))\n",
    "b2.requires_grad = True\n",
    "\n",
    "#_ = train_part2(two_layer_fc, [w1, b1, w2, b2], learning_rate)"
   ]
  },
  {
   "cell_type": "markdown",
   "metadata": {
    "id": "7K_n_BZPIMBB"
   },
   "source": [
    "### BareBones PyTorch: Training a ConvNet\n",
    "\n",
    "Now, it's your turn to  implement `initialize_three_layer_conv_part2` function and run the following cell. \n",
    "\n",
    "You don't need to tune any hyperparameters, but if everything works correctly you should achieve an accuracy around 45% after one epoch."
   ]
  },
  {
   "cell_type": "code",
   "execution_count": 14,
   "metadata": {
    "colab": {
     "base_uri": "https://localhost:8080/"
    },
    "executionInfo": {
     "elapsed": 64153,
     "status": "ok",
     "timestamp": 1618965921612,
     "user": {
      "displayName": "Chao-Kai Wen",
      "photoUrl": "https://lh3.googleusercontent.com/a-/AOh14GhvRkGqRo8KO0yf620ycuDgopRffj66KoETUXNr=s64",
      "userId": "03615602679925463409"
     },
     "user_tz": -480
    },
    "id": "wBRWytEzIMBC",
    "outputId": "157f0fc3-a31d-48ae-b5d7-fa484b82c9b6",
    "scrolled": true
   },
   "outputs": [],
   "source": [
    "reset_seed(0)\n",
    "learning_rate = 3e-3\n",
    "# YOUR_TURN: Impelement the initialize_three_layer_conv_part2 function\n",
    "params = initialize_three_layer_conv_part2(dtype=to_float, device='cuda')\n",
    "#acc_hist_part2 = train_part2(three_layer_convnet, params, learning_rate)"
   ]
  },
  {
   "cell_type": "markdown",
   "metadata": {
    "id": "YXGdsYInIMBH"
   },
   "source": [
    "# Part III. PyTorch Module API\n",
    "\n",
    "Barebone PyTorch requires that we track all the parameter tensors by hand. This is fine for small networks with a few tensors, but it would be extremely inconvenient and error-prone to track tens or hundreds of tensors in larger networks.\n",
    "\n",
    "PyTorch provides the `nn.Module` API for you to define arbitrary network architectures, while tracking every learnable parameters for you. In Part II, we implemented SGD ourselves. PyTorch also provides the `torch.optim` package that implements all the common optimizers, such as RMSProp, Adagrad, and Adam. It even supports approximate second-order methods like L-BFGS! You can refer to the [doc](http://pytorch.org/docs/master/optim.html) for the exact specifications of each optimizer.\n",
    "\n",
    "To use the Module API, follow the steps below:\n",
    "\n",
    "1. Subclass `nn.Module`. Give your network class an intuitive name like `TwoLayerFC`. \n",
    "\n",
    "2. In the constructor `__init__()`, define all the layers you need as class attributes. Layer objects like `nn.Linear` and `nn.Conv2d` are themselves `nn.Module` subclasses and contain learnable parameters, so that you don't have to instantiate the raw tensors yourself. `nn.Module` will track these internal parameters for you. Refer to the [doc](http://pytorch.org/docs/master/nn.html) to learn more about the dozens of builtin layers. **Warning**: don't forget to call the `super().__init__()` first!\n",
    "\n",
    "3. In the `forward()` method, define the *connectivity* of your network. You should use the attributes defined in `__init__` as function calls that take tensor as input and output the \"transformed\" tensor. Do *not* create any new layers with learnable parameters in `forward()`! All of them must be declared upfront in `__init__`. \n",
    "\n",
    "After you define your Module subclass, you can instantiate it as an object and call it just like the NN forward function in part II.\n",
    "\n",
    "### Module API: Two-Layer Network\n",
    "Here is a concrete example of a 2-layer fully connected network.\n",
    "We use `nn.init.kaiming_normal_` to initialize weights using Kaiming initialization, and `nn.init.zeros_` to initialize biases."
   ]
  },
  {
   "cell_type": "code",
   "execution_count": 15,
   "metadata": {
    "colab": {
     "base_uri": "https://localhost:8080/"
    },
    "executionInfo": {
     "elapsed": 64148,
     "status": "ok",
     "timestamp": 1618965921613,
     "user": {
      "displayName": "Chao-Kai Wen",
      "photoUrl": "https://lh3.googleusercontent.com/a-/AOh14GhvRkGqRo8KO0yf620ycuDgopRffj66KoETUXNr=s64",
      "userId": "03615602679925463409"
     },
     "user_tz": -480
    },
    "id": "2Ue0_Cf1IMBJ",
    "outputId": "1eeca67f-a088-4fad-d928-0dd7d1d990e8"
   },
   "outputs": [
    {
     "name": "stdout",
     "output_type": "stream",
     "text": [
      "Architecture:\n",
      "TwoLayerFC(\n",
      "  (fc1): Linear(in_features=768, out_features=42, bias=True)\n",
      "  (fc2): Linear(in_features=42, out_features=10, bias=True)\n",
      ")\n",
      "Output size: [64, 10]\n"
     ]
    }
   ],
   "source": [
    "class TwoLayerFC(nn.Module):\n",
    "  def __init__(self, input_size, hidden_size, num_classes):\n",
    "    super().__init__()\n",
    "    # assign layer objects to class attributes\n",
    "    self.fc1 = nn.Linear(input_size, hidden_size)\n",
    "    self.fc2 = nn.Linear(hidden_size, num_classes)\n",
    "    # nn.init package contains convenient initialization methods\n",
    "    # https://pytorch.org/docs/stable/nn.init.html#torch.nn.init.kaiming_normal_ \n",
    "    nn.init.kaiming_normal_(self.fc1.weight)\n",
    "    nn.init.kaiming_normal_(self.fc2.weight)\n",
    "    nn.init.zeros_(self.fc1.bias)\n",
    "    nn.init.zeros_(self.fc2.bias)\n",
    "  \n",
    "  def forward(self, x):\n",
    "    # forward always defines connectivity\n",
    "    x = flatten(x)\n",
    "    scores = self.fc2(F.relu(self.fc1(x)))\n",
    "    return scores\n",
    "\n",
    "def test_TwoLayerFC():\n",
    "  input_size = 3*16*16\n",
    "  x = torch.zeros((64, input_size), dtype=to_float)  # minibatch size 64, feature dimension 3*16*16\n",
    "  model = TwoLayerFC(input_size, 42, 10)\n",
    "  scores = model(x)\n",
    "  print('Architecture:')\n",
    "  print(model) # printing `nn.Module` shows the architecture of the module.\n",
    "  print('Output size:', list(scores.size()))  # you should see [64, 10]\n",
    "test_TwoLayerFC()"
   ]
  },
  {
   "cell_type": "markdown",
   "metadata": {
    "id": "CruYc2HJIMBP"
   },
   "source": [
    "### Module API: Three-Layer ConvNet\n",
    "It's your turn to implement a 3-layer ConvNet followed by a fully connected layer. \n",
    "\n",
    "After you implement the `ThreeLayerConvNet`, the `test_ThreeLayerConvNet` function will run your implementation; it should print `(64, 10)` for the shape of the output scores."
   ]
  },
  {
   "cell_type": "code",
   "execution_count": 16,
   "metadata": {
    "colab": {
     "base_uri": "https://localhost:8080/"
    },
    "executionInfo": {
     "elapsed": 64142,
     "status": "ok",
     "timestamp": 1618965921613,
     "user": {
      "displayName": "Chao-Kai Wen",
      "photoUrl": "https://lh3.googleusercontent.com/a-/AOh14GhvRkGqRo8KO0yf620ycuDgopRffj66KoETUXNr=s64",
      "userId": "03615602679925463409"
     },
     "user_tz": -480
    },
    "id": "R58EqBTYIMBU",
    "outputId": "5789d207-04cf-449b-c9fa-bca592eea365"
   },
   "outputs": [
    {
     "name": "stdout",
     "output_type": "stream",
     "text": [
      "ThreeLayerConvNet(\n",
      "  (conv1): Conv2d(3, 12, kernel_size=(5, 5), stride=(1, 1), padding=(2, 2))\n",
      "  (conv2): Conv2d(12, 8, kernel_size=(3, 3), stride=(1, 1), padding=(1, 1))\n",
      "  (fc): Linear(in_features=8192, out_features=10, bias=True)\n",
      ")\n",
      "Output size: [64, 10]\n"
     ]
    }
   ],
   "source": [
    "def test_ThreeLayerConvNet():\n",
    "  x = torch.zeros((64, 3, 32, 32), dtype=to_float)  # minibatch size 64, image size [3, 32, 32]\n",
    "  # YOUR_TURN: Impelement the functions in ThreeLayerConvNet class\n",
    "  model = ThreeLayerConvNet(in_channel=3, channel_1=12, channel_2=8, num_classes=10)\n",
    "  scores = model(x)\n",
    "  print(model) # printing `nn.Module` shows the architecture of the module.\n",
    "  print('Output size:', list(scores.size()))  # you should see [64, 10]\n",
    "test_ThreeLayerConvNet()"
   ]
  },
  {
   "cell_type": "markdown",
   "metadata": {
    "id": "3efFpwV_IMBZ"
   },
   "source": [
    "### Module API: Check Accuracy\n",
    "Given the validation or test set, we can check the classification accuracy of a neural network. \n",
    "\n",
    "This version is slightly different from the one in part II. You don't manually pass in the parameters anymore."
   ]
  },
  {
   "cell_type": "code",
   "execution_count": 17,
   "metadata": {
    "id": "LpgKJLVbIMBb"
   },
   "outputs": [],
   "source": [
    "def check_accuracy_part34(loader, model):\n",
    "  if loader.dataset.train:\n",
    "    print('Checking accuracy on validation set')\n",
    "  else:\n",
    "    print('Checking accuracy on test set')   \n",
    "  num_correct = 0\n",
    "  num_samples = 0\n",
    "  model.eval()  # set model to evaluation mode\n",
    "  with torch.no_grad():\n",
    "    for x, y in loader:\n",
    "      x = x.to(device='cuda', dtype=to_float)  # move to device, e.g. GPU\n",
    "      y = y.to(device='cuda', dtype=to_long)\n",
    "      scores = model(x)\n",
    "      _, preds = scores.max(1)\n",
    "      num_correct += (preds == y).sum()\n",
    "      num_samples += preds.size(0)\n",
    "    acc = float(num_correct) / num_samples\n",
    "    print('Got %d / %d correct (%.2f)' % (num_correct, num_samples, 100 * acc))\n",
    "  return acc"
   ]
  },
  {
   "cell_type": "markdown",
   "metadata": {
    "id": "-tmOMi8SIMBj"
   },
   "source": [
    "### Module API: Training Loop\n",
    "We also use a slightly different training loop. Rather than updating the values of the weights ourselves, we use an Optimizer object from the `torch.optim` package, which abstract the notion of an optimization algorithm and provides implementations of most of the algorithms commonly used to optimize neural networks."
   ]
  },
  {
   "cell_type": "code",
   "execution_count": 18,
   "metadata": {
    "id": "HLJjvtu1IMBm"
   },
   "outputs": [],
   "source": [
    "def adjust_learning_rate(optimizer, lrd, epoch, schedule):\n",
    "  \"\"\"\n",
    "  Multiply lrd to the learning rate if epoch is in schedule\n",
    "  \n",
    "  Inputs:\n",
    "  - optimizer: An Optimizer object we will use to train the model\n",
    "  - lrd: learning rate decay; a factor multiplied at scheduled epochs\n",
    "  - epochs: the current epoch number\n",
    "  - schedule: the list of epochs that requires learning rate update\n",
    "  \n",
    "  Returns: Nothing, but learning rate might be updated\n",
    "  \"\"\"\n",
    "  if epoch in schedule:\n",
    "    for param_group in optimizer.param_groups:\n",
    "      print('lr decay from {} to {}'.format(param_group['lr'], param_group['lr'] * lrd))\n",
    "      param_group['lr'] *= lrd\n",
    "\n",
    "def train_part345(model, optimizer, epochs=1, learning_rate_decay=.1, schedule=[], verbose=True):\n",
    "  \"\"\"\n",
    "  Train a model on CIFAR-10 using the PyTorch Module API.\n",
    "  \n",
    "  Inputs:\n",
    "  - model: A PyTorch Module giving the model to train.\n",
    "  - optimizer: An Optimizer object we will use to train the model\n",
    "  - epochs: (Optional) A Python integer giving the number of epochs to train for\n",
    "  \n",
    "  Returns: Nothing, but prints model accuracies during training.\n",
    "  \"\"\"\n",
    "  model = model.to(device='cuda')  # move the model parameters to CPU/GPU\n",
    "  num_iters = epochs * len(loader_train)\n",
    "  print_every = 100\n",
    "  if verbose:\n",
    "    num_prints = num_iters // print_every + 1\n",
    "  else:\n",
    "    num_prints = epochs\n",
    "  acc_history = torch.zeros(num_prints, dtype=to_float)\n",
    "  iter_history = torch.zeros(num_prints, dtype=to_long)\n",
    "  for e in range(epochs):\n",
    "    \n",
    "    adjust_learning_rate(optimizer, learning_rate_decay, e, schedule)\n",
    "    \n",
    "    for t, (x, y) in enumerate(loader_train):\n",
    "      model.train()  # put model to training mode\n",
    "      x = x.to(device='cuda', dtype=to_float)  # move to device, e.g. GPU\n",
    "      y = y.to(device='cuda', dtype=to_long)\n",
    "\n",
    "      scores = model(x)\n",
    "      loss = F.cross_entropy(scores, y)\n",
    "\n",
    "      # Zero out all of the gradients for the variables which the optimizer\n",
    "      # will update.\n",
    "      optimizer.zero_grad()\n",
    "\n",
    "      # This is the backwards pass: compute the gradient of the loss with\n",
    "      # respect to each  parameter of the model.\n",
    "      loss.backward()\n",
    "\n",
    "      # Actually update the parameters of the model using the gradients\n",
    "      # computed by the backwards pass.\n",
    "      optimizer.step()\n",
    "\n",
    "      tt = t + e * len(loader_train)\n",
    "\n",
    "      if verbose and (tt % print_every == 0 or (e == epochs-1 and t == len(loader_train)-1)):\n",
    "        print('Epoch %d, Iteration %d, loss = %.4f' % (e, tt, loss.item()))\n",
    "        acc = check_accuracy_part34(loader_val, model)\n",
    "        acc_history[tt // print_every] = acc\n",
    "        iter_history[tt // print_every] = tt\n",
    "        print()\n",
    "      elif not verbose and (t == len(loader_train)-1):\n",
    "        print('Epoch %d, Iteration %d, loss = %.4f' % (e, tt, loss.item()))\n",
    "        acc = check_accuracy_part34(loader_val, model)\n",
    "        acc_history[e] = acc\n",
    "        iter_history[e] = tt\n",
    "        print()\n",
    "  return acc_history, iter_history"
   ]
  },
  {
   "cell_type": "markdown",
   "metadata": {
    "id": "uFQs2WWKIMBu"
   },
   "source": [
    "### Module API: Train a Two-Layer Network\n",
    "Now we are ready to run the training loop. In contrast to part II, we don't explicitly allocate parameter tensors anymore.\n",
    "\n",
    "Simply pass the input size, hidden layer size, and number of classes (i.e. output size) to the constructor of `TwoLayerFC`. \n",
    "\n",
    "You also need to define an optimizer that tracks all the learnable parameters inside `TwoLayerFC`.\n",
    "\n",
    "You don't need to tune any hyperparameters or implement anything, but you should see model accuracies around 40% after training for one epoch."
   ]
  },
  {
   "cell_type": "code",
   "execution_count": 19,
   "metadata": {
    "colab": {
     "base_uri": "https://localhost:8080/"
    },
    "executionInfo": {
     "elapsed": 74258,
     "status": "ok",
     "timestamp": 1618965931738,
     "user": {
      "displayName": "Chao-Kai Wen",
      "photoUrl": "https://lh3.googleusercontent.com/a-/AOh14GhvRkGqRo8KO0yf620ycuDgopRffj66KoETUXNr=s64",
      "userId": "03615602679925463409"
     },
     "user_tz": -480
    },
    "id": "v4Od-a6_IMBv",
    "outputId": "27e8d1c4-c39b-4b56-fed7-b240fa25a993"
   },
   "outputs": [],
   "source": [
    "reset_seed(0)\n",
    "\n",
    "C, H, W = 3, 32, 32\n",
    "num_classes = 10\n",
    "\n",
    "hidden_layer_size = 4000\n",
    "learning_rate = 1e-2\n",
    "weight_decay = 1e-4\n",
    "\n",
    "model = TwoLayerFC(C*H*W, hidden_layer_size, num_classes)\n",
    "\n",
    "optimizer = optim.SGD(model.parameters(), lr=learning_rate,\n",
    "                      weight_decay=weight_decay)\n",
    "\n",
    "#_ = train_part345(model, optimizer)"
   ]
  },
  {
   "cell_type": "markdown",
   "metadata": {
    "id": "J_35SZYHIMB4"
   },
   "source": [
    "### Module API: Train a Three-Layer ConvNet\n",
    "You should now use the Module API to train a three-layer ConvNet on CIFAR. This should look very similar to training the two-layer network! You don't need to tune any hyperparameters, but you should achieve above around 45% after training for one epoch.\n",
    "\n",
    "Implement the `initialize_three_layer_conv_part3` function, you should train the model using stochastic gradient descent without momentum, with L2 weight decay of 1e-4."
   ]
  },
  {
   "cell_type": "code",
   "execution_count": 20,
   "metadata": {
    "colab": {
     "base_uri": "https://localhost:8080/"
    },
    "executionInfo": {
     "elapsed": 84698,
     "status": "ok",
     "timestamp": 1618965942184,
     "user": {
      "displayName": "Chao-Kai Wen",
      "photoUrl": "https://lh3.googleusercontent.com/a-/AOh14GhvRkGqRo8KO0yf620ycuDgopRffj66KoETUXNr=s64",
      "userId": "03615602679925463409"
     },
     "user_tz": -480
    },
    "id": "-bIRiwOJIMB6",
    "outputId": "85bcd5b2-217e-475a-9ffd-cb84e65f403f"
   },
   "outputs": [],
   "source": [
    "reset_seed(0)\n",
    "# YOUR_TURN: Impelement initialize_three_layer_conv_part3\n",
    "model, optimizer = initialize_three_layer_conv_part3()\n",
    "#acc_hist_part3, _ = train_part345(model, optimizer)"
   ]
  },
  {
   "cell_type": "markdown",
   "metadata": {
    "id": "qeTdi4-xIMB_"
   },
   "source": [
    "# Part IV. PyTorch Sequential API\n",
    "\n",
    "Part III introduced the PyTorch Module API, which allows you to define arbitrary learnable layers and their connectivity. \n",
    "\n",
    "For simple models like a stack of feed forward layers, you still need to go through 3 steps: subclass `nn.Module`, assign layers to class attributes in `__init__`, and call each layer one by one in `forward()`. Is there a more convenient way? \n",
    "\n",
    "Fortunately, PyTorch provides a container Module called `nn.Sequential`, which merges the above steps into one. It is not as flexible as `nn.Module`, because you cannot specify more complex topology than a feed-forward stack, but it's good enough for many use cases."
   ]
  },
  {
   "cell_type": "markdown",
   "metadata": {
    "id": "ZZq-3hjxeYr4"
   },
   "source": [
    "### Sequential API: Two-Layer Network\n",
    "Let's see how to rewrite our two-layer fully connected network example with `nn.Sequential`, and train it using the training loop defined above.\n",
    "Here, let's skip weight initialization for simplicity;\n",
    "with a more advanced optimizer than the naive SGD, the default initialization provided in `torch.nn` is good enough for shallow networks.\n",
    "\n",
    "Again, you don't need to tune any hyperparameters or implement anything here, but you should achieve around 40% accuracy after one epoch of training."
   ]
  },
  {
   "cell_type": "code",
   "execution_count": 21,
   "metadata": {
    "colab": {
     "base_uri": "https://localhost:8080/"
    },
    "executionInfo": {
     "elapsed": 94772,
     "status": "ok",
     "timestamp": 1618965952264,
     "user": {
      "displayName": "Chao-Kai Wen",
      "photoUrl": "https://lh3.googleusercontent.com/a-/AOh14GhvRkGqRo8KO0yf620ycuDgopRffj66KoETUXNr=s64",
      "userId": "03615602679925463409"
     },
     "user_tz": -480
    },
    "id": "9smkhciWIMCC",
    "outputId": "ee6c71e5-0019-4855-d99c-c690c71ec6c9"
   },
   "outputs": [
    {
     "name": "stdout",
     "output_type": "stream",
     "text": [
      "Architecture:\n",
      "Sequential(\n",
      "  (flatten): Flatten()\n",
      "  (fc1): Linear(in_features=3072, out_features=4000, bias=True)\n",
      "  (relu1): ReLU()\n",
      "  (fc2): Linear(in_features=4000, out_features=10, bias=True)\n",
      ")\n"
     ]
    }
   ],
   "source": [
    "reset_seed(0)\n",
    "C, H, W = 3, 32, 32\n",
    "num_classes = 10\n",
    "\n",
    "hidden_layer_size = 4000\n",
    "learning_rate = 1e-2\n",
    "weight_decay = 1e-4\n",
    "momentum = 0.5\n",
    "\n",
    "# To give a specific name to each module, use OrderedDict.\n",
    "model = nn.Sequential(OrderedDict([\n",
    "  ('flatten', Flatten()),\n",
    "  ('fc1', nn.Linear(C*H*W, hidden_layer_size)),\n",
    "  ('relu1', nn.ReLU()),\n",
    "  ('fc2', nn.Linear(hidden_layer_size, num_classes)),\n",
    "]))\n",
    "\n",
    "print('Architecture:')\n",
    "print(model) # printing `nn.Module` shows the architecture of the module.\n",
    "\n",
    "# you can use Nesterov momentum in optim.SGD\n",
    "optimizer = optim.SGD(model.parameters(), lr=learning_rate, \n",
    "                      weight_decay=weight_decay,\n",
    "                      momentum=momentum, nesterov=True)\n",
    "\n",
    "#_ = train_part345(model, optimizer)"
   ]
  },
  {
   "cell_type": "markdown",
   "metadata": {
    "id": "5YMYfFUGIMCH"
   },
   "source": [
    "### Sequential API: Three-Layer ConvNet\n",
    "Now, it's your turn to use `nn.Sequential` to define and train a three-layer ConvNet with the same architecture we used in Part III. \n",
    "\n",
    "Implement `initialize_three_layer_conv_part4` and  you should see accuracy around 50% after one epoch of training.                      \n",
    "\t"
   ]
  },
  {
   "cell_type": "code",
   "execution_count": 22,
   "metadata": {
    "colab": {
     "base_uri": "https://localhost:8080/"
    },
    "executionInfo": {
     "elapsed": 104880,
     "status": "ok",
     "timestamp": 1618965962379,
     "user": {
      "displayName": "Chao-Kai Wen",
      "photoUrl": "https://lh3.googleusercontent.com/a-/AOh14GhvRkGqRo8KO0yf620ycuDgopRffj66KoETUXNr=s64",
      "userId": "03615602679925463409"
     },
     "user_tz": -480
    },
    "id": "Q2To2-mtIMCJ",
    "outputId": "6a921193-6411-4571-e94f-69325e111d92",
    "scrolled": true
   },
   "outputs": [
    {
     "name": "stdout",
     "output_type": "stream",
     "text": [
      "Architecture:\n",
      "Sequential(\n",
      "  (conv1): Conv2d(3, 32, kernel_size=(5, 5), stride=(1, 1), padding=(2, 2))\n",
      "  (relu1): ReLU()\n",
      "  (conv2): Conv2d(32, 16, kernel_size=(3, 3), stride=(1, 1), padding=(1, 1))\n",
      "  (relu2): ReLU()\n",
      "  (flat): Flatten()\n",
      "  (fc): Linear(in_features=16384, out_features=10, bias=True)\n",
      ")\n"
     ]
    }
   ],
   "source": [
    "reset_seed(0)\n",
    "\n",
    "# YOUR_TURN: Impelement initialize_three_layer_conv_part4\n",
    "model, optimizer = initialize_three_layer_conv_part4()\n",
    "print('Architecture:')\n",
    "print(model) # printing `nn.Module` shows the architecture of the module.\n",
    "\n",
    "#acc_hist_part4, _ = train_part345(model, optimizer)"
   ]
  },
  {
   "cell_type": "markdown",
   "metadata": {
    "id": "3QuDzeu88m3h"
   },
   "source": [
    "**For homework 9, you only need to complete the code up to here. The following part is a mid-term exam. I would sugget that you finish it before next week so that you can have more time to think the improved version. Good luck ^^**"
   ]
  },
  {
   "cell_type": "markdown",
   "metadata": {
    "id": "CM6FuhGPIMCO"
   },
   "source": [
    "# Part V. ResNet for CIFAR-10 (**Midterm**)\n",
    "\n",
    "In this section, you are going to implement [ResNet](https://arxiv.org/abs/1512.03385), one of the state-of-the-art CNN architecture.\n",
    "Specifically, you are going to implement a variation of ResNet called [PreResNet](https://arxiv.org/abs/1603.05027), which locates activation before each convolutional layer (so called pre-activation).\n",
    "You are going to first implement a plain building block, residual block, and then bottleneck block for really deep networks.\n",
    "Finally, you will implement your own ResNet using those blocks.\n",
    "\n",
    "Throughout this part, we will follow the PyTorch default weight initialization for conciseness."
   ]
  },
  {
   "cell_type": "markdown",
   "metadata": {
    "id": "f8pgYlKN9NLH"
   },
   "source": [
    "## Plain block\n",
    "\n",
    "First, let's implement a plain block without residual connection.\n",
    "PreResNet has a different order of layers from the previously implemented ones;\n",
    "BatchNorm and ReLU precedes Conv.\n",
    "The name of PreResNet comes form this pre-activation architecture.\n",
    "Here, for downsampling, we don't introduce MaxPool layers explicitly, but use stride 2 in the first Conv layer in the block.\n",
    "\n",
    "Concretely, a plain block accepts a feature map of shape $C_{in} \\times H_{in} \\times W_{out}$ and produces a feature map of shape $C_{out} \\times H_{out} \\times W_{out}$. If the block performs downsampling, then $W_{out}=W_{in}/2$ and $H_{out}=H_{in}/2$; otherwise $H_{out}=H_{in}$ and $W_{out}=W_{in}$. The plain block consists of the following six layers in order:\n",
    "\n",
    "1. Spatial Batch normalization\n",
    "2. ReLU\n",
    "3. Convolutional layer with `Cout` 3x3 filters, zero-padding of 1, and stride 2 if downsampling; otherwise stride 1\n",
    "4. Spatial Batch normalization\n",
    "5. ReLU\n",
    "6. Convolutional layer with `Cout` 3x3 filters, with zero-padding of 1\n",
    "\n",
    "Implement the `PlainBlock.__init__` function and run the following cell. You should see a message indicating that your implementation is correct.\n",
    "\n",
    "**Hint**\n",
    "\n",
    "You may use `stride=2 if downsample else 1` to simplify your code.\n"
   ]
  },
  {
   "cell_type": "code",
   "execution_count": 23,
   "metadata": {
    "colab": {
     "base_uri": "https://localhost:8080/"
    },
    "executionInfo": {
     "elapsed": 104874,
     "status": "ok",
     "timestamp": 1618965962379,
     "user": {
      "displayName": "Chao-Kai Wen",
      "photoUrl": "https://lh3.googleusercontent.com/a-/AOh14GhvRkGqRo8KO0yf620ycuDgopRffj66KoETUXNr=s64",
      "userId": "03615602679925463409"
     },
     "user_tz": -480
    },
    "id": "SofEF-vyAekS",
    "outputId": "66a78f47-b238-43e5-bbc0-ecb76f181ee0",
    "scrolled": true
   },
   "outputs": [
    {
     "name": "stdout",
     "output_type": "stream",
     "text": [
      "The output of PlainBlock without downsampling has a *correct* dimension!\n",
      "The output of PlainBlock with downsampling has a *correct* dimension!\n"
     ]
    }
   ],
   "source": [
    "data = torch.zeros(2, 3, 5, 6)\n",
    "# YOUR_TURN: Impelement PlainBlock.__init__\n",
    "model = PlainBlock(3, 10)\n",
    "if list(model(data).shape) == [2, 10, 5, 6]:\n",
    "  print('The output of PlainBlock without downsampling has a *correct* dimension!')\n",
    "else:\n",
    "  print('The output of PlainBlock without downsampling has an *incorrect* dimension! expected:', [2, 10, 5, 6], 'got:', list(model(data).shape))\n",
    "\n",
    "data = torch.zeros(2, 3, 5, 6)\n",
    "# YOUR_TURN: Impelement PlainBlock.__init__\n",
    "model = PlainBlock(3, 10, downsample=True)\n",
    "if list(model(data).shape) == [2, 10, 3, 3]:\n",
    "  print('The output of PlainBlock with downsampling has a *correct* dimension!')\n",
    "else:\n",
    "  print('The output of PlainBlock with downsampling has an *incorrect* dimension! expected:', [2, 10, 3, 3], 'got:', list(model(data).shape))"
   ]
  },
  {
   "cell_type": "markdown",
   "metadata": {
    "id": "ASV5NdNADo3F"
   },
   "source": [
    "## Residual block\n",
    "\n",
    "Next, let's implement a residual block.\n",
    "A residual block adds a residual connection to a plain block. Let $\\mathcal{F}$ be a plain block; then the residual version  $\\mathcal{R}$ of the plain block $\\mathcal{F}$ computes:\n",
    "\n",
    "$\\mathcal{R}(x) = \\mathcal{F}(x) + x$\n",
    "\n",
    "However, this implementation will only work if the output from the plain block $\\mathcal{F}(x)$ has the same shape as the input $x$. Based on the plain block that we implemented above, there are two cases where the output of the plain block can have a different shape than the input:\n",
    "\n",
    "1. The number of output channels $C_{out}$ is different from the number of input channels $C_{in}$\n",
    "2. The plain block $\\mathcal{F}$ performs spatial downsampling\n",
    "\n",
    "To deal with these cases, we need generalize our definition of the residual block and add a *shortcut connection* $\\mathcal{G}$:\n",
    "\n",
    "$\\mathcal{R}(x) = \\mathcal{F}(x) + \\mathcal{G}(x)$\n",
    "\n",
    "There are three cases for the shortcut connection $\\mathcal{G}$:\n",
    "\n",
    "1. If $C_{in}=C_{out}$ and $\\mathcal{F}$ does not perform downsampling, then $\\mathcal{F}(x)$ will have the same shape as $x$, so $\\mathcal{G}$ is the identity function: $\\mathcal{G}(x) = x$\n",
    "2. If $C_{in} \\neq C_{out}$ and $\\mathcal{F}$ does not downsample, then $\\mathcal{G}$ is a 1x1 convolution with $C_out$ filters and stride 1.\n",
    "3. If $\\mathcal{F}$ downsamples, then $\\mathcal{G}$ is a 1x1 convolution with $C_{out}$ filters and stride 2.\n",
    "\n",
    "Implement the `ResidualBlock.__init__` function and run the following cell. You should see a message indicating that your implementation is correct."
   ]
  },
  {
   "cell_type": "code",
   "execution_count": 24,
   "metadata": {
    "colab": {
     "base_uri": "https://localhost:8080/"
    },
    "executionInfo": {
     "elapsed": 615,
     "status": "ok",
     "timestamp": 1618967894643,
     "user": {
      "displayName": "Chao-Kai Wen",
      "photoUrl": "https://lh3.googleusercontent.com/a-/AOh14GhvRkGqRo8KO0yf620ycuDgopRffj66KoETUXNr=s64",
      "userId": "03615602679925463409"
     },
     "user_tz": -480
    },
    "id": "TMJ3-eI3Do3M",
    "outputId": "800d7a79-64f0-42a8-c923-cc546232c58c"
   },
   "outputs": [
    {
     "name": "stdout",
     "output_type": "stream",
     "text": [
      "The output of ResidualBlock without downsampling has a *correct* dimension!\n",
      "The output of ResidualBlock with downsampling has a *correct* dimension!\n"
     ]
    }
   ],
   "source": [
    "data = torch.zeros(2, 3, 5, 6)\n",
    "# YOUR_TURN: Impelement ResidualBlock.__init__\n",
    "model = ResidualBlock(3, 10)\n",
    "if list(model(data).shape) == [2, 10, 5, 6]:\n",
    "  print('The output of ResidualBlock without downsampling has a *correct* dimension!')\n",
    "else:\n",
    "  print('The output of ResidualBlock without downsampling has an *incorrect* dimension! expected:', [2, 10, 5, 6], 'got:', list(model(data).shape))\n",
    "\n",
    "data = torch.zeros(2, 3, 5, 6)\n",
    "# YOUR_TURN: Impelement ResidualBlock.__init__\n",
    "model = ResidualBlock(3, 10, downsample=True)\n",
    "if list(model(data).shape) == [2, 10, 3, 3]:\n",
    "  print('The output of ResidualBlock with downsampling has a *correct* dimension!')\n",
    "else:\n",
    "  print('The output of ResidualBlock with downsampling has an *incorrect* dimension! expected:', [2, 10, 3, 3], 'got:', list(model(data).shape))"
   ]
  },
  {
   "cell_type": "markdown",
   "metadata": {
    "id": "wrEzQeTBvNso"
   },
   "source": [
    "## Residual stage\n",
    "\n",
    "So far, you implemented micro layers, which consists of several convolutional laters.\n",
    "To efficiently build a deep neural network, we define a macro layer by repeating the micro layers.\n",
    "\n",
    "For your convenience, we provide the implementation in `pytorch_autograd_and_nn.py`.\n",
    "\n",
    "```\n",
    "class ResNetStage(nn.Module):\n",
    "  def __init__(self, Cin, Cout, num_blocks, downsample=True,\n",
    "               block=ResidualBlock):\n",
    "    super().__init__()\n",
    "    blocks = [block(Cin, Cout, downsample)]\n",
    "    for _ in range(num_blocks - 1):\n",
    "      blocks.append(block(Cout, Cout))\n",
    "    self.net = nn.Sequential(*blocks)\n",
    "  \n",
    "  def forward(self, x):\n",
    "    return self.net(x)\n",
    "```\n",
    "\n",
    "\n"
   ]
  },
  {
   "cell_type": "code",
   "execution_count": 25,
   "metadata": {
    "colab": {
     "base_uri": "https://localhost:8080/"
    },
    "executionInfo": {
     "elapsed": 637,
     "status": "ok",
     "timestamp": 1618968024148,
     "user": {
      "displayName": "Chao-Kai Wen",
      "photoUrl": "https://lh3.googleusercontent.com/a-/AOh14GhvRkGqRo8KO0yf620ycuDgopRffj66KoETUXNr=s64",
      "userId": "03615602679925463409"
     },
     "user_tz": -480
    },
    "id": "I21i5J3AnbhM",
    "outputId": "4abc9bde-dcf5-4324-c75c-601efe7e4d26"
   },
   "outputs": [
    {
     "name": "stdout",
     "output_type": "stream",
     "text": [
      "Plain block stage:\n",
      "ResNetStage(\n",
      "  (net): Sequential(\n",
      "    (0): PlainBlock(\n",
      "      (net): Sequential(\n",
      "        (0): BatchNorm2d(3, eps=1e-05, momentum=0.1, affine=True, track_running_stats=True)\n",
      "        (1): ReLU()\n",
      "        (2): Conv2d(3, 4, kernel_size=(3, 3), stride=(2, 2), padding=(1, 1))\n",
      "        (3): BatchNorm2d(4, eps=1e-05, momentum=0.1, affine=True, track_running_stats=True)\n",
      "        (4): ReLU()\n",
      "        (5): Conv2d(4, 4, kernel_size=(3, 3), stride=(1, 1), padding=(1, 1))\n",
      "      )\n",
      "    )\n",
      "    (1): PlainBlock(\n",
      "      (net): Sequential(\n",
      "        (0): BatchNorm2d(4, eps=1e-05, momentum=0.1, affine=True, track_running_stats=True)\n",
      "        (1): ReLU()\n",
      "        (2): Conv2d(4, 4, kernel_size=(3, 3), stride=(1, 1), padding=(1, 1))\n",
      "        (3): BatchNorm2d(4, eps=1e-05, momentum=0.1, affine=True, track_running_stats=True)\n",
      "        (4): ReLU()\n",
      "        (5): Conv2d(4, 4, kernel_size=(3, 3), stride=(1, 1), padding=(1, 1))\n",
      "      )\n",
      "    )\n",
      "  )\n",
      ")\n",
      "Residual block stage:\n",
      "ResNetStage(\n",
      "  (net): Sequential(\n",
      "    (0): ResidualBlock(\n",
      "      (block): PlainBlock(\n",
      "        (net): Sequential(\n",
      "          (0): BatchNorm2d(3, eps=1e-05, momentum=0.1, affine=True, track_running_stats=True)\n",
      "          (1): ReLU()\n",
      "          (2): Conv2d(3, 4, kernel_size=(3, 3), stride=(2, 2), padding=(1, 1))\n",
      "          (3): BatchNorm2d(4, eps=1e-05, momentum=0.1, affine=True, track_running_stats=True)\n",
      "          (4): ReLU()\n",
      "          (5): Conv2d(4, 4, kernel_size=(3, 3), stride=(1, 1), padding=(1, 1))\n",
      "        )\n",
      "      )\n",
      "      (shortcut): Conv2d(3, 4, kernel_size=(1, 1), stride=(2, 2))\n",
      "    )\n",
      "    (1): ResidualBlock(\n",
      "      (block): PlainBlock(\n",
      "        (net): Sequential(\n",
      "          (0): BatchNorm2d(4, eps=1e-05, momentum=0.1, affine=True, track_running_stats=True)\n",
      "          (1): ReLU()\n",
      "          (2): Conv2d(4, 4, kernel_size=(3, 3), stride=(1, 1), padding=(1, 1))\n",
      "          (3): BatchNorm2d(4, eps=1e-05, momentum=0.1, affine=True, track_running_stats=True)\n",
      "          (4): ReLU()\n",
      "          (5): Conv2d(4, 4, kernel_size=(3, 3), stride=(1, 1), padding=(1, 1))\n",
      "        )\n",
      "      )\n",
      "      (shortcut): Identity()\n",
      "    )\n",
      "  )\n",
      ")\n"
     ]
    }
   ],
   "source": [
    "print('Plain block stage:')\n",
    "print(ResNetStage(3, 4, 2, block=PlainBlock))\n",
    "print('Residual block stage:')\n",
    "print(ResNetStage(3, 4, 2, block=ResidualBlock))"
   ]
  },
  {
   "cell_type": "markdown",
   "metadata": {
    "id": "7l3-PNR9mlIb"
   },
   "source": [
    "## Residual stem\n",
    "\n",
    "A \"stem\" layer is required at the beginning of the network, which increases the number of channels while keeping the other dimensions.\n",
    "\n",
    "For your convenience, we provide the implementation in `pytorch_autograd_and_nn.py`.\n",
    "\n",
    "\n",
    "\n",
    "```\n",
    "class ResNetStem(nn.Module):\n",
    "  def __init__(self, Cin=3, Cout=8):\n",
    "    super().__init__()\n",
    "    layers = [\n",
    "        nn.Conv2d(Cin, Cout, kernel_size=3, padding=1, stride=1),\n",
    "        nn.ReLU(),\n",
    "    ]\n",
    "    self.net = nn.Sequential(*layers)\n",
    "    \n",
    "  def forward(self, x):\n",
    "    return self.net(x)\n",
    "```\n",
    "\n"
   ]
  },
  {
   "cell_type": "code",
   "execution_count": 26,
   "metadata": {
    "colab": {
     "base_uri": "https://localhost:8080/"
    },
    "executionInfo": {
     "elapsed": 609,
     "status": "ok",
     "timestamp": 1618968257064,
     "user": {
      "displayName": "Chao-Kai Wen",
      "photoUrl": "https://lh3.googleusercontent.com/a-/AOh14GhvRkGqRo8KO0yf620ycuDgopRffj66KoETUXNr=s64",
      "userId": "03615602679925463409"
     },
     "user_tz": -480
    },
    "id": "UGzh0oVxm2Aw",
    "outputId": "b1efdae0-ee81-4014-cc14-22e99c6444fe"
   },
   "outputs": [
    {
     "name": "stdout",
     "output_type": "stream",
     "text": [
      "The output of ResNetStem without downsampling has a *correct* dimension!\n"
     ]
    }
   ],
   "source": [
    "data = torch.zeros(2, 3, 5, 6)\n",
    "model = ResNetStem(3, 10)\n",
    "if list(model(data).shape) == [2, 10, 5, 6]:\n",
    "  print('The output of ResNetStem without downsampling has a *correct* dimension!')\n",
    "else:\n",
    "  print('The output of ResNetStem without downsampling has an *incorrect* dimension! expected:', [2, 10, 5, 6], 'got:', list(model(data).shape))"
   ]
  },
  {
   "cell_type": "markdown",
   "metadata": {
    "id": "QGzn4Gp_sYBp"
   },
   "source": [
    "## ResNet class\n",
    "\n",
    "Now, it is time to design the ResNet class using the blocks you implemented above!\n",
    "\n",
    "For general applicability, the class will get a dictionary of the architecture specification as an input, and parse it to build a CNN.\n",
    "\n",
    "Here we provide a couple of examples of specification;\n",
    "`networks` is a collection of pre-defined network specifications, where each can be called by `get_resnet(key)`, where key is the name of the network, e.g., `get_resnet('resnet32')` will return a ResNet with 32 layers.\n",
    "\n",
    "Each specification consists of multiple tuples which correspond to a macro block (`ResNetStage`), and the values in each tuple implies `(num_in_channels, num_out_channels, num_blocks, do_downsample)`.\n",
    "\n",
    "To avoid dependency on the size of the input, ResNet has an average pooling at the end of the convolutional part, such that the size of the input tensor to the linear layer is always `(batch_size, stage_args[-1][1])`. You may implement the globe average pooling by `nn.AdaptiveAvgPool2d`.\n",
    "\n",
    "\n",
    "You may want to add an average pooling layer (`nn.AvgPool2d`), but it requires to know the size of the input.\n",
    "Can you relax this requirement?\n",
    "\n",
    "**Hint**: You can perform average pooling in `forward`.\n",
    "\n",
    "Implement `ResNet.__init__` and `ResNet.forward` and train it on CIFAR."
   ]
  },
  {
   "cell_type": "code",
   "execution_count": 27,
   "metadata": {
    "id": "1iOOBoSgs-0X"
   },
   "outputs": [],
   "source": [
    "# example of specifications\n",
    "networks = {\n",
    "  'plain32': {\n",
    "    'block': PlainBlock,\n",
    "    'stage_args': [\n",
    "      (8, 8, 5, False),\n",
    "      (8, 16, 5, True),\n",
    "      (16, 32, 5, True),\n",
    "    ]\n",
    "  },\n",
    "  'resnet32': {\n",
    "    'block': ResidualBlock,\n",
    "    'stage_args': [\n",
    "      (8, 8, 5, False),\n",
    "      (8, 16, 5, True),\n",
    "      (16, 32, 5, True),\n",
    "    ]\n",
    "  },\n",
    "}\n",
    "\n",
    "def get_resnet(name):\n",
    "  # YOUR_TURN: Impelement ResNet.__init__ and ResNet.forward\n",
    "  return ResNet(**networks[name])"
   ]
  },
  {
   "cell_type": "markdown",
   "metadata": {
    "id": "uqhp641H0P9Z"
   },
   "source": [
    "## Train your model!\n",
    "\n",
    "Now let's train a few epochs of plain and residual networks with 32 layers on CIFAR.\n",
    "You will see that deep non-residual networks don't converge well.\n",
    "\n",
    "**Caution: This takes a long time!**\n",
    "\n",
    "**Disclaimer: The performance of PreResNet-32 you will see here (~ 80%) would be lower than the best performance this model can achieve, because the convergence requires much more training.**"
   ]
  },
  {
   "cell_type": "code",
   "execution_count": 28,
   "metadata": {
    "colab": {
     "base_uri": "https://localhost:8080/"
    },
    "executionInfo": {
     "elapsed": 399678,
     "status": "ok",
     "timestamp": 1618984782842,
     "user": {
      "displayName": "Chao-Kai Wen",
      "photoUrl": "https://lh3.googleusercontent.com/a-/AOh14GhvRkGqRo8KO0yf620ycuDgopRffj66KoETUXNr=s64",
      "userId": "03615602679925463409"
     },
     "user_tz": -480
    },
    "id": "hRyYVBn60A58",
    "outputId": "ca11f7be-71b1-4357-a6b4-b7541b55992d"
   },
   "outputs": [],
   "source": [
    "# names = ['plain32', 'resnet32']\n",
    "# acc_history_dict = {}\n",
    "# iter_history_dict = {}\n",
    "# for name in names:\n",
    "#   reset_seed(0)\n",
    "#   print(name, '\\n')\n",
    "#   model = get_resnet(name)\n",
    "# #   init_module(model)\n",
    "  \n",
    "#   optimizer = optim.SGD(model.parameters(), lr=1e-2, momentum=.9, weight_decay=1e-4)\n",
    "\n",
    "#   acc_history, iter_history = train_part345(model, optimizer, epochs=10, schedule=[6, 8], verbose=False)\n",
    "#   acc_history_dict[name] = acc_history\n",
    "#   iter_history_dict[name] = iter_history"
   ]
  },
  {
   "cell_type": "code",
   "execution_count": 29,
   "metadata": {
    "colab": {
     "base_uri": "https://localhost:8080/",
     "height": 295
    },
    "executionInfo": {
     "elapsed": 649,
     "status": "ok",
     "timestamp": 1618984789418,
     "user": {
      "displayName": "Chao-Kai Wen",
      "photoUrl": "https://lh3.googleusercontent.com/a-/AOh14GhvRkGqRo8KO0yf620ycuDgopRffj66KoETUXNr=s64",
      "userId": "03615602679925463409"
     },
     "user_tz": -480
    },
    "id": "-u89CIFfzWWR",
    "outputId": "a6809601-b6a8-40dc-8ab5-f2924e7e0462"
   },
   "outputs": [],
   "source": [
    "# plt.title('Val accuracies')\n",
    "# for name in names:\n",
    "#   plt.plot(iter_history_dict[name], acc_history_dict[name], '-o')\n",
    "# plt.legend(names, loc='upper left')\n",
    "# plt.xlabel('iterations')\n",
    "# plt.ylabel('accuracy')\n",
    "# plt.gcf().set_size_inches(9, 4)\n",
    "# plt.show()"
   ]
  },
  {
   "cell_type": "markdown",
   "metadata": {
    "id": "7Z31mvHGQT3y"
   },
   "source": [
    "## Residual bottleneck block\n",
    "\n",
    "A bottleneck block is often useful for better efficiency, especially when importing a model to mobile devices.\n",
    "The residual bottleneck block is similar to the standard residual block, but the plain block part has a different architecture:\n",
    "it consists of 3 convolutional layers, and the first two convolutional layers have a smaller number of channels.\n",
    "\n",
    "Here is the specification of the bottleneck block:\n",
    "\n",
    "1. Spatial Batch normalization\n",
    "2. ReLU\n",
    "3. Convolutional layer with `Cout // 4` 1x1 filters, zero-padding of 0, stride 1 \n",
    "4. Spatial Batch normalization\n",
    "5. ReLU\n",
    "6. Convolutional layer with `Cout // 4` 3x3 filters, zero-padding of 1, stride 2 if downsampling; otherwise stride 1 \n",
    "7. Spatial Batch normalization\n",
    "8. ReLU\n",
    "9. Convolutional layer with `Cout` 1x1 filters, zero-padding of 0, stride 1\n",
    "\n",
    "Implement `ResidualBottleneckBlock.__init__` and don't forget to add the residual connection!"
   ]
  },
  {
   "cell_type": "code",
   "execution_count": 30,
   "metadata": {
    "colab": {
     "base_uri": "https://localhost:8080/"
    },
    "executionInfo": {
     "elapsed": 670,
     "status": "ok",
     "timestamp": 1618983909234,
     "user": {
      "displayName": "Chao-Kai Wen",
      "photoUrl": "https://lh3.googleusercontent.com/a-/AOh14GhvRkGqRo8KO0yf620ycuDgopRffj66KoETUXNr=s64",
      "userId": "03615602679925463409"
     },
     "user_tz": -480
    },
    "id": "vqETnXH5QT37",
    "outputId": "6dba1d56-a5f4-47a2-db55-34f887ea1565"
   },
   "outputs": [
    {
     "name": "stdout",
     "output_type": "stream",
     "text": [
      "The output of ResidualBlock without downsampling has a *correct* dimension!\n",
      "The output of ResidualBlock with downsampling has a *correct* dimension!\n"
     ]
    }
   ],
   "source": [
    "data = torch.zeros(2, 3, 5, 6)\n",
    "model = ResidualBottleneckBlock(3, 10)\n",
    "if list(model(data).shape) == [2, 10, 5, 6]:\n",
    "  print('The output of ResidualBlock without downsampling has a *correct* dimension!')\n",
    "else:\n",
    "  print('The output of ResidualBlock without downsampling has an *incorrect* dimension! expected:', [2, 10, 5, 6], 'got:', list(model(data).shape))\n",
    "\n",
    "data = torch.zeros(2, 3, 5, 6)\n",
    "model = ResidualBottleneckBlock(3, 10, downsample=True)\n",
    "if list(model(data).shape) == [2, 10, 3, 3]:\n",
    "  print('The output of ResidualBlock with downsampling has a *correct* dimension!')\n",
    "else:\n",
    "  print('The output of ResidualBlock with downsampling has an *incorrect* dimension! expected:', [2, 10, 3, 3], 'got:', list(model(data).shape))"
   ]
  },
  {
   "cell_type": "markdown",
   "metadata": {
    "id": "QnRc5hiHudMP"
   },
   "source": [
    "By running the following script, you can check the architecture of ResNet-47 with bottlenecks.\n",
    "\n",
    "Caution: it is long!"
   ]
  },
  {
   "cell_type": "code",
   "execution_count": 31,
   "metadata": {
    "colab": {
     "base_uri": "https://localhost:8080/"
    },
    "executionInfo": {
     "elapsed": 586,
     "status": "ok",
     "timestamp": 1618983911507,
     "user": {
      "displayName": "Chao-Kai Wen",
      "photoUrl": "https://lh3.googleusercontent.com/a-/AOh14GhvRkGqRo8KO0yf620ycuDgopRffj66KoETUXNr=s64",
      "userId": "03615602679925463409"
     },
     "user_tz": -480
    },
    "id": "md6xmG-Aucrx",
    "outputId": "fe82e888-3eb2-4251-c102-8d4eb57b3b53"
   },
   "outputs": [
    {
     "name": "stdout",
     "output_type": "stream",
     "text": [
      "ResNet(\n",
      "  (cnn): Sequential(\n",
      "    (0): ResNetStem(\n",
      "      (net): Sequential(\n",
      "        (0): Conv2d(3, 32, kernel_size=(3, 3), stride=(1, 1), padding=(1, 1))\n",
      "        (1): ReLU()\n",
      "      )\n",
      "    )\n",
      "    (1): ResNetStage(\n",
      "      (net): Sequential(\n",
      "        (0): ResidualBottleneckBlock(\n",
      "          (block): Sequential(\n",
      "            (0): BatchNorm2d(32, eps=1e-05, momentum=0.1, affine=True, track_running_stats=True)\n",
      "            (1): ReLU()\n",
      "            (2): Conv2d(32, 8, kernel_size=(1, 1), stride=(1, 1))\n",
      "            (3): BatchNorm2d(8, eps=1e-05, momentum=0.1, affine=True, track_running_stats=True)\n",
      "            (4): ReLU()\n",
      "            (5): Conv2d(8, 8, kernel_size=(3, 3), stride=(1, 1), padding=(1, 1))\n",
      "            (6): BatchNorm2d(8, eps=1e-05, momentum=0.1, affine=True, track_running_stats=True)\n",
      "            (7): ReLU()\n",
      "            (8): Conv2d(8, 32, kernel_size=(1, 1), stride=(1, 1))\n",
      "          )\n",
      "          (shortcut): Identity()\n",
      "        )\n",
      "        (1): ResidualBottleneckBlock(\n",
      "          (block): Sequential(\n",
      "            (0): BatchNorm2d(32, eps=1e-05, momentum=0.1, affine=True, track_running_stats=True)\n",
      "            (1): ReLU()\n",
      "            (2): Conv2d(32, 8, kernel_size=(1, 1), stride=(1, 1))\n",
      "            (3): BatchNorm2d(8, eps=1e-05, momentum=0.1, affine=True, track_running_stats=True)\n",
      "            (4): ReLU()\n",
      "            (5): Conv2d(8, 8, kernel_size=(3, 3), stride=(1, 1), padding=(1, 1))\n",
      "            (6): BatchNorm2d(8, eps=1e-05, momentum=0.1, affine=True, track_running_stats=True)\n",
      "            (7): ReLU()\n",
      "            (8): Conv2d(8, 32, kernel_size=(1, 1), stride=(1, 1))\n",
      "          )\n",
      "          (shortcut): Identity()\n",
      "        )\n",
      "        (2): ResidualBottleneckBlock(\n",
      "          (block): Sequential(\n",
      "            (0): BatchNorm2d(32, eps=1e-05, momentum=0.1, affine=True, track_running_stats=True)\n",
      "            (1): ReLU()\n",
      "            (2): Conv2d(32, 8, kernel_size=(1, 1), stride=(1, 1))\n",
      "            (3): BatchNorm2d(8, eps=1e-05, momentum=0.1, affine=True, track_running_stats=True)\n",
      "            (4): ReLU()\n",
      "            (5): Conv2d(8, 8, kernel_size=(3, 3), stride=(1, 1), padding=(1, 1))\n",
      "            (6): BatchNorm2d(8, eps=1e-05, momentum=0.1, affine=True, track_running_stats=True)\n",
      "            (7): ReLU()\n",
      "            (8): Conv2d(8, 32, kernel_size=(1, 1), stride=(1, 1))\n",
      "          )\n",
      "          (shortcut): Identity()\n",
      "        )\n",
      "        (3): ResidualBottleneckBlock(\n",
      "          (block): Sequential(\n",
      "            (0): BatchNorm2d(32, eps=1e-05, momentum=0.1, affine=True, track_running_stats=True)\n",
      "            (1): ReLU()\n",
      "            (2): Conv2d(32, 8, kernel_size=(1, 1), stride=(1, 1))\n",
      "            (3): BatchNorm2d(8, eps=1e-05, momentum=0.1, affine=True, track_running_stats=True)\n",
      "            (4): ReLU()\n",
      "            (5): Conv2d(8, 8, kernel_size=(3, 3), stride=(1, 1), padding=(1, 1))\n",
      "            (6): BatchNorm2d(8, eps=1e-05, momentum=0.1, affine=True, track_running_stats=True)\n",
      "            (7): ReLU()\n",
      "            (8): Conv2d(8, 32, kernel_size=(1, 1), stride=(1, 1))\n",
      "          )\n",
      "          (shortcut): Identity()\n",
      "        )\n",
      "        (4): ResidualBottleneckBlock(\n",
      "          (block): Sequential(\n",
      "            (0): BatchNorm2d(32, eps=1e-05, momentum=0.1, affine=True, track_running_stats=True)\n",
      "            (1): ReLU()\n",
      "            (2): Conv2d(32, 8, kernel_size=(1, 1), stride=(1, 1))\n",
      "            (3): BatchNorm2d(8, eps=1e-05, momentum=0.1, affine=True, track_running_stats=True)\n",
      "            (4): ReLU()\n",
      "            (5): Conv2d(8, 8, kernel_size=(3, 3), stride=(1, 1), padding=(1, 1))\n",
      "            (6): BatchNorm2d(8, eps=1e-05, momentum=0.1, affine=True, track_running_stats=True)\n",
      "            (7): ReLU()\n",
      "            (8): Conv2d(8, 32, kernel_size=(1, 1), stride=(1, 1))\n",
      "          )\n",
      "          (shortcut): Identity()\n",
      "        )\n",
      "      )\n",
      "    )\n",
      "    (2): ResNetStage(\n",
      "      (net): Sequential(\n",
      "        (0): ResidualBottleneckBlock(\n",
      "          (block): Sequential(\n",
      "            (0): BatchNorm2d(32, eps=1e-05, momentum=0.1, affine=True, track_running_stats=True)\n",
      "            (1): ReLU()\n",
      "            (2): Conv2d(32, 16, kernel_size=(1, 1), stride=(1, 1))\n",
      "            (3): BatchNorm2d(16, eps=1e-05, momentum=0.1, affine=True, track_running_stats=True)\n",
      "            (4): ReLU()\n",
      "            (5): Conv2d(16, 16, kernel_size=(3, 3), stride=(2, 2), padding=(1, 1))\n",
      "            (6): BatchNorm2d(16, eps=1e-05, momentum=0.1, affine=True, track_running_stats=True)\n",
      "            (7): ReLU()\n",
      "            (8): Conv2d(16, 64, kernel_size=(1, 1), stride=(1, 1))\n",
      "          )\n",
      "          (shortcut): Conv2d(32, 64, kernel_size=(1, 1), stride=(2, 2))\n",
      "        )\n",
      "        (1): ResidualBottleneckBlock(\n",
      "          (block): Sequential(\n",
      "            (0): BatchNorm2d(64, eps=1e-05, momentum=0.1, affine=True, track_running_stats=True)\n",
      "            (1): ReLU()\n",
      "            (2): Conv2d(64, 16, kernel_size=(1, 1), stride=(1, 1))\n",
      "            (3): BatchNorm2d(16, eps=1e-05, momentum=0.1, affine=True, track_running_stats=True)\n",
      "            (4): ReLU()\n",
      "            (5): Conv2d(16, 16, kernel_size=(3, 3), stride=(1, 1), padding=(1, 1))\n",
      "            (6): BatchNorm2d(16, eps=1e-05, momentum=0.1, affine=True, track_running_stats=True)\n",
      "            (7): ReLU()\n",
      "            (8): Conv2d(16, 64, kernel_size=(1, 1), stride=(1, 1))\n",
      "          )\n",
      "          (shortcut): Identity()\n",
      "        )\n",
      "        (2): ResidualBottleneckBlock(\n",
      "          (block): Sequential(\n",
      "            (0): BatchNorm2d(64, eps=1e-05, momentum=0.1, affine=True, track_running_stats=True)\n",
      "            (1): ReLU()\n",
      "            (2): Conv2d(64, 16, kernel_size=(1, 1), stride=(1, 1))\n",
      "            (3): BatchNorm2d(16, eps=1e-05, momentum=0.1, affine=True, track_running_stats=True)\n",
      "            (4): ReLU()\n",
      "            (5): Conv2d(16, 16, kernel_size=(3, 3), stride=(1, 1), padding=(1, 1))\n",
      "            (6): BatchNorm2d(16, eps=1e-05, momentum=0.1, affine=True, track_running_stats=True)\n",
      "            (7): ReLU()\n",
      "            (8): Conv2d(16, 64, kernel_size=(1, 1), stride=(1, 1))\n",
      "          )\n",
      "          (shortcut): Identity()\n",
      "        )\n",
      "        (3): ResidualBottleneckBlock(\n",
      "          (block): Sequential(\n",
      "            (0): BatchNorm2d(64, eps=1e-05, momentum=0.1, affine=True, track_running_stats=True)\n",
      "            (1): ReLU()\n",
      "            (2): Conv2d(64, 16, kernel_size=(1, 1), stride=(1, 1))\n",
      "            (3): BatchNorm2d(16, eps=1e-05, momentum=0.1, affine=True, track_running_stats=True)\n",
      "            (4): ReLU()\n",
      "            (5): Conv2d(16, 16, kernel_size=(3, 3), stride=(1, 1), padding=(1, 1))\n",
      "            (6): BatchNorm2d(16, eps=1e-05, momentum=0.1, affine=True, track_running_stats=True)\n",
      "            (7): ReLU()\n",
      "            (8): Conv2d(16, 64, kernel_size=(1, 1), stride=(1, 1))\n",
      "          )\n",
      "          (shortcut): Identity()\n",
      "        )\n",
      "        (4): ResidualBottleneckBlock(\n",
      "          (block): Sequential(\n",
      "            (0): BatchNorm2d(64, eps=1e-05, momentum=0.1, affine=True, track_running_stats=True)\n",
      "            (1): ReLU()\n",
      "            (2): Conv2d(64, 16, kernel_size=(1, 1), stride=(1, 1))\n",
      "            (3): BatchNorm2d(16, eps=1e-05, momentum=0.1, affine=True, track_running_stats=True)\n",
      "            (4): ReLU()\n",
      "            (5): Conv2d(16, 16, kernel_size=(3, 3), stride=(1, 1), padding=(1, 1))\n",
      "            (6): BatchNorm2d(16, eps=1e-05, momentum=0.1, affine=True, track_running_stats=True)\n",
      "            (7): ReLU()\n",
      "            (8): Conv2d(16, 64, kernel_size=(1, 1), stride=(1, 1))\n",
      "          )\n",
      "          (shortcut): Identity()\n",
      "        )\n",
      "      )\n",
      "    )\n",
      "    (3): ResNetStage(\n",
      "      (net): Sequential(\n",
      "        (0): ResidualBottleneckBlock(\n",
      "          (block): Sequential(\n",
      "            (0): BatchNorm2d(64, eps=1e-05, momentum=0.1, affine=True, track_running_stats=True)\n",
      "            (1): ReLU()\n",
      "            (2): Conv2d(64, 32, kernel_size=(1, 1), stride=(1, 1))\n",
      "            (3): BatchNorm2d(32, eps=1e-05, momentum=0.1, affine=True, track_running_stats=True)\n",
      "            (4): ReLU()\n",
      "            (5): Conv2d(32, 32, kernel_size=(3, 3), stride=(2, 2), padding=(1, 1))\n",
      "            (6): BatchNorm2d(32, eps=1e-05, momentum=0.1, affine=True, track_running_stats=True)\n",
      "            (7): ReLU()\n",
      "            (8): Conv2d(32, 128, kernel_size=(1, 1), stride=(1, 1))\n",
      "          )\n",
      "          (shortcut): Conv2d(64, 128, kernel_size=(1, 1), stride=(2, 2))\n",
      "        )\n",
      "        (1): ResidualBottleneckBlock(\n",
      "          (block): Sequential(\n",
      "            (0): BatchNorm2d(128, eps=1e-05, momentum=0.1, affine=True, track_running_stats=True)\n",
      "            (1): ReLU()\n",
      "            (2): Conv2d(128, 32, kernel_size=(1, 1), stride=(1, 1))\n",
      "            (3): BatchNorm2d(32, eps=1e-05, momentum=0.1, affine=True, track_running_stats=True)\n",
      "            (4): ReLU()\n",
      "            (5): Conv2d(32, 32, kernel_size=(3, 3), stride=(1, 1), padding=(1, 1))\n",
      "            (6): BatchNorm2d(32, eps=1e-05, momentum=0.1, affine=True, track_running_stats=True)\n",
      "            (7): ReLU()\n",
      "            (8): Conv2d(32, 128, kernel_size=(1, 1), stride=(1, 1))\n",
      "          )\n",
      "          (shortcut): Identity()\n",
      "        )\n",
      "        (2): ResidualBottleneckBlock(\n",
      "          (block): Sequential(\n",
      "            (0): BatchNorm2d(128, eps=1e-05, momentum=0.1, affine=True, track_running_stats=True)\n",
      "            (1): ReLU()\n",
      "            (2): Conv2d(128, 32, kernel_size=(1, 1), stride=(1, 1))\n",
      "            (3): BatchNorm2d(32, eps=1e-05, momentum=0.1, affine=True, track_running_stats=True)\n",
      "            (4): ReLU()\n",
      "            (5): Conv2d(32, 32, kernel_size=(3, 3), stride=(1, 1), padding=(1, 1))\n",
      "            (6): BatchNorm2d(32, eps=1e-05, momentum=0.1, affine=True, track_running_stats=True)\n",
      "            (7): ReLU()\n",
      "            (8): Conv2d(32, 128, kernel_size=(1, 1), stride=(1, 1))\n",
      "          )\n",
      "          (shortcut): Identity()\n",
      "        )\n",
      "        (3): ResidualBottleneckBlock(\n",
      "          (block): Sequential(\n",
      "            (0): BatchNorm2d(128, eps=1e-05, momentum=0.1, affine=True, track_running_stats=True)\n",
      "            (1): ReLU()\n",
      "            (2): Conv2d(128, 32, kernel_size=(1, 1), stride=(1, 1))\n",
      "            (3): BatchNorm2d(32, eps=1e-05, momentum=0.1, affine=True, track_running_stats=True)\n",
      "            (4): ReLU()\n",
      "            (5): Conv2d(32, 32, kernel_size=(3, 3), stride=(1, 1), padding=(1, 1))\n",
      "            (6): BatchNorm2d(32, eps=1e-05, momentum=0.1, affine=True, track_running_stats=True)\n",
      "            (7): ReLU()\n",
      "            (8): Conv2d(32, 128, kernel_size=(1, 1), stride=(1, 1))\n",
      "          )\n",
      "          (shortcut): Identity()\n",
      "        )\n",
      "        (4): ResidualBottleneckBlock(\n",
      "          (block): Sequential(\n",
      "            (0): BatchNorm2d(128, eps=1e-05, momentum=0.1, affine=True, track_running_stats=True)\n",
      "            (1): ReLU()\n",
      "            (2): Conv2d(128, 32, kernel_size=(1, 1), stride=(1, 1))\n",
      "            (3): BatchNorm2d(32, eps=1e-05, momentum=0.1, affine=True, track_running_stats=True)\n",
      "            (4): ReLU()\n",
      "            (5): Conv2d(32, 32, kernel_size=(3, 3), stride=(1, 1), padding=(1, 1))\n",
      "            (6): BatchNorm2d(32, eps=1e-05, momentum=0.1, affine=True, track_running_stats=True)\n",
      "            (7): ReLU()\n",
      "            (8): Conv2d(32, 128, kernel_size=(1, 1), stride=(1, 1))\n",
      "          )\n",
      "          (shortcut): Identity()\n",
      "        )\n",
      "      )\n",
      "    )\n",
      "  )\n",
      "  (fc): Linear(in_features=128, out_features=100, bias=True)\n",
      ")\n"
     ]
    }
   ],
   "source": [
    "# example of specification\n",
    "networks.update({\n",
    "  'resnet47': {\n",
    "    'block': ResidualBottleneckBlock,\n",
    "    'stage_args': [\n",
    "      (32, 32, 5, False),\n",
    "      (32, 64, 5, True),\n",
    "      (64, 128, 5, True),\n",
    "    ],\n",
    "  },\n",
    "})\n",
    "\n",
    "print(get_resnet('resnet47'))"
   ]
  },
  {
   "cell_type": "markdown",
   "metadata": {
    "id": "6EinCKc0-kIn"
   },
   "source": [
    "## Train your model!\n",
    "\n",
    "Now let's train a few epochs of plain and residual networks with 47 layers on CIFAR.\n",
    "You will see that deep non-residual networks don't converge well.\n",
    "\n",
    "**Caution: This takes a long time!**\n",
    "\n",
    "**Disclaimer: The performance of PreResNet-47 you will see here (~ 80%) would be lower than the best performance this model can achieve, because the convergence requires much more training.**"
   ]
  },
  {
   "cell_type": "code",
   "execution_count": 32,
   "metadata": {
    "colab": {
     "base_uri": "https://localhost:8080/"
    },
    "executionInfo": {
     "elapsed": 2608182,
     "status": "ok",
     "timestamp": 1618988847844,
     "user": {
      "displayName": "Chao-Kai Wen",
      "photoUrl": "https://lh3.googleusercontent.com/a-/AOh14GhvRkGqRo8KO0yf620ycuDgopRffj66KoETUXNr=s64",
      "userId": "03615602679925463409"
     },
     "user_tz": -480
    },
    "id": "69ccwhWs5mM2",
    "outputId": "3bd1a0aa-e15e-4f9c-f228-2899e8e79b02"
   },
   "outputs": [],
   "source": [
    "# import time\n",
    "# start_time = time.time()\n",
    "\n",
    "\n",
    "# names = ['plain32', 'resnet32', 'resnet47']\n",
    "\n",
    "# name = names[-1]\n",
    "# reset_seed(0)\n",
    "# print(name, '\\n')\n",
    "# model = get_resnet(name)\n",
    "  \n",
    "# optimizer = optim.SGD(model.parameters(), lr=1e-2, momentum=.9, weight_decay=1e-4)\n",
    "\n",
    "# acc_history, iter_history = train_part345(model, optimizer, epochs=100, schedule=[10, 20, 40, 80], verbose=False)\n",
    "# acc_history_dict[name] = acc_history\n",
    "# iter_history_dict[name] = iter_history\n",
    "\n",
    "\n",
    "# seconds = time.time() - start_time\n",
    "# print('Time Taken:', time.strftime(\"%H:%M:%S\",time.gmtime(seconds)))"
   ]
  },
  {
   "cell_type": "code",
   "execution_count": 33,
   "metadata": {
    "colab": {
     "base_uri": "https://localhost:8080/",
     "height": 245
    },
    "executionInfo": {
     "elapsed": 652,
     "status": "error",
     "timestamp": 1618993941098,
     "user": {
      "displayName": "Chao-Kai Wen",
      "photoUrl": "https://lh3.googleusercontent.com/a-/AOh14GhvRkGqRo8KO0yf620ycuDgopRffj66KoETUXNr=s64",
      "userId": "03615602679925463409"
     },
     "user_tz": -480
    },
    "id": "dJdLHnx591kd",
    "outputId": "b7b0eafc-f2ee-463c-855d-3451c6fa8f1a",
    "scrolled": true
   },
   "outputs": [],
   "source": [
    "# plt.title('Val accuracies')\n",
    "# for name in names:\n",
    "#   plt.plot(iter_history_dict[name], acc_history_dict[name], '-o')\n",
    "# plt.legend(names, loc='upper left')\n",
    "# plt.xlabel('iterations')\n",
    "# plt.ylabel('accuracy')\n",
    "# plt.gcf().set_size_inches(9, 4)\n",
    "# plt.show()"
   ]
  },
  {
   "cell_type": "code",
   "execution_count": 34,
   "metadata": {},
   "outputs": [
    {
     "name": "stdout",
     "output_type": "stream",
     "text": [
      "Hello from pytorch_autograd_and_nn.py!\n",
      "pytorch_autograd_and_nn.py last edited on Mon Apr 25 14:01:36 2022\n",
      "/usr/lib/python3/dist-packages/secretstorage/dhcrypto.py:15: CryptographyDeprecationWarning: int_from_bytes is deprecated, use int.from_bytes instead\n",
      "  from cryptography.utils import int_from_bytes\n",
      "/usr/lib/python3/dist-packages/secretstorage/util.py:19: CryptographyDeprecationWarning: int_from_bytes is deprecated, use int.from_bytes instead\n",
      "  from cryptography.utils import int_from_bytes\n"
     ]
    }
   ],
   "source": [
    "# TODO: Fill in the Google Drive path where you uploaded the assignment\n",
    "# Example: If you create a 2021DL folder and put all the files under A0 folder, then '2021DL/A0'\n",
    "# GOOGLE_DRIVE_PATH_AFTER_MYDRIVE = 'DL2021/midterm2022/DataPrepare'\n",
    "# GOOGLE_DRIVE_PATH = os.path.join('drive', 'My Drive', GOOGLE_DRIVE_PATH_AFTER_MYDRIVE)\n",
    "# print(os.listdir(GOOGLE_DRIVE_PATH))\n",
    "\n",
    "# import sys\n",
    "# sys.path.append(GOOGLE_DRIVE_PATH)\n",
    "\n",
    "import time, os\n",
    "# os.environ[\"TZ\"] = \"UTC\"\n",
    "# time.tzset()\n",
    "\n",
    "from pytorch_autograd_and_nn import * # select your function\n",
    "from a4_helper import *\n",
    "hello()\n",
    "\n",
    "py_path = 'pytorch_autograd_and_nn.py' # select your function\n",
    "py_edit_time = time.ctime(os.path.getmtime(py_path))\n",
    "print('pytorch_autograd_and_nn.py last edited on %s' % py_edit_time)\n",
    "\n",
    "!pip install pytorch-lightning --quiet\n",
    "import pytorch_lightning as pl\n",
    "import torch\n",
    "from torch.utils.data import Dataset\n",
    "from torch.utils.data import DataLoader, random_split\n",
    "import torchvision\n",
    "from torchvision import transforms\n",
    "from torchvision.datasets import CIFAR100\n",
    "import matplotlib.pyplot as plt"
   ]
  },
  {
   "cell_type": "markdown",
   "metadata": {},
   "source": [
    "# CIFAR-100 Dataset"
   ]
  },
  {
   "cell_type": "code",
   "execution_count": 35,
   "metadata": {},
   "outputs": [],
   "source": [
    "class CIFAR100DataModule(pl.LightningDataModule):\n",
    "    def __init__(self, batch_size, data_dir: str = './data'):\n",
    "        super().__init__()\n",
    "        self.data_dir = data_dir\n",
    "        self.batch_size = batch_size\n",
    "        \n",
    "        self.transform_train = transforms.Compose([transforms.RandomCrop(32, padding=4),\n",
    "                                                    transforms.RandomHorizontalFlip(),\n",
    "                                                    transforms.RandomRotation(15),\n",
    "                                                    transforms.ToTensor(),\n",
    "                                                    transforms.Normalize((0.507, 0.487, 0.441), (0.267, 0.256, 0.276))\n",
    "                                                  ])\n",
    "        \n",
    "        self.transform_test = transforms.Compose([transforms.ToTensor(),\n",
    "                                                    transforms.Normalize((0.507, 0.487, 0.441), (0.267, 0.256, 0.276))\n",
    "                                                  ])\n",
    "\n",
    "        \n",
    "    def prepare_data(self):\n",
    "        # download \n",
    "        torchvision.datasets.CIFAR100(self.data_dir, train=True, download=True)\n",
    "        torchvision.datasets.CIFAR100(self.data_dir, train=False, download=True)\n",
    "\n",
    "    def setup(self, stage=None):\n",
    "        # Assign train/val datasets for use in dataloaders\n",
    "        if stage == 'fit' or stage is None:\n",
    "            cifar_full = torchvision.datasets.CIFAR100(self.data_dir, train=True, transform=self.transform_train)\n",
    "            self.cifar_train, self.cifar_val = random_split(cifar_full, [45000, 5000])\n",
    "\n",
    "        # Assign test dataset for use in dataloader(s)\n",
    "        if stage == 'test' or stage is None:\n",
    "            self.cifar_test = torchvision.datasets.CIFAR100(self.data_dir, train=False, transform=self.transform_test)\n",
    "\n",
    "    def train_dataloader(self):\n",
    "        return DataLoader(self.cifar_train, batch_size=self.batch_size, shuffle=True, num_workers=2)\n",
    "\n",
    "    def val_dataloader(self):\n",
    "        return DataLoader(self.cifar_val, batch_size=self.batch_size, num_workers=2)\n",
    "\n",
    "    def test_dataloader(self):\n",
    "        return DataLoader(self.cifar_test, batch_size=16, num_workers=2)"
   ]
  },
  {
   "cell_type": "code",
   "execution_count": 36,
   "metadata": {},
   "outputs": [
    {
     "name": "stdout",
     "output_type": "stream",
     "text": [
      "Files already downloaded and verified\n",
      "Files already downloaded and verified\n"
     ]
    }
   ],
   "source": [
    "# Init our data pipeline\n",
    "dm = CIFAR100DataModule(batch_size=128)\n",
    "\n",
    "# To access the x_dataloader we need to call prepare_data and setup.\n",
    "dm.prepare_data()\n",
    "\n",
    "dm.setup()\n",
    "\n",
    "testloader = dm.test_dataloader()\n",
    "valloader = dm.val_dataloader()\n",
    "trainloader = dm.train_dataloader()"
   ]
  },
  {
   "cell_type": "code",
   "execution_count": 37,
   "metadata": {},
   "outputs": [
    {
     "name": "stdout",
     "output_type": "stream",
     "text": [
      "Number of class is  100\n"
     ]
    },
    {
     "name": "stderr",
     "output_type": "stream",
     "text": [
      "Clipping input data to the valid range for imshow with RGB data ([0..1] for floats or [0..255] for integers).\n"
     ]
    },
    {
     "name": "stdout",
     "output_type": "stream",
     "text": [
      "Index of corresponding label is  7\n",
      "Figure size is  (3, 32, 32)\n",
      "Corresponding label is  beetle\n"
     ]
    },
    {
     "data": {
      "text/plain": [
       "<matplotlib.image.AxesImage at 0x7f59e1b43880>"
      ]
     },
     "execution_count": 37,
     "metadata": {},
     "output_type": "execute_result"
    },
    {
     "data": {
      "image/png": "[encoded data removed]",
      "text/plain": [
       "<Figure size 432x288 with 1 Axes>"
      ]
     },
     "metadata": {
      "needs_background": "light"
     },
     "output_type": "display_data"
    }
   ],
   "source": [
    "#function to read files present in the Python version of the dataset\n",
    "def unpickle(file):\n",
    "    with open(file, 'rb') as fo:\n",
    "        myDict = pickle.load(fo, encoding='latin1')\n",
    "    return myDict\n",
    "\n",
    "metaData = unpickle('data/cifar-100-python/meta')\n",
    "label_names = metaData['fine_label_names']\n",
    "print('Number of class is ', len(label_names))\n",
    "\n",
    "# get some random test images to see if things are getting displayed correctly\n",
    "dataiter = iter(trainloader)\n",
    "images, labels = dataiter.next()\n",
    "labels_list = labels.tolist()\n",
    "\n",
    "plt_need_idx = 5\n",
    "print( 'Index of corresponding label is ', labels_list[plt_need_idx] )\n",
    "print( 'Figure size is ', images[plt_need_idx].numpy().shape )\n",
    "print( 'Corresponding label is ', label_names[labels_list[plt_need_idx]] )\n",
    "plt.imshow(np.transpose(images[plt_need_idx].numpy(), (1, 2, 0)))"
   ]
  },
  {
   "cell_type": "markdown",
   "metadata": {},
   "source": [
    "# New Train Model (change train_part345 to train_part_NEW)"
   ]
  },
  {
   "cell_type": "code",
   "execution_count": 38,
   "metadata": {},
   "outputs": [],
   "source": [
    "def check_accuracy_part_NEW(loader, model):  \n",
    "  num_correct = 0\n",
    "  num_samples = 0\n",
    "  model.eval()  # set model to evaluation mode\n",
    "  with torch.no_grad():\n",
    "    for x, y in loader:\n",
    "      x = x.to(device='cuda', dtype=to_float)  # move to device, e.g. GPU\n",
    "      y = y.to(device='cuda', dtype=to_long)\n",
    "      scores = model(x)\n",
    "      _, preds = scores.max(1)\n",
    "      num_correct += (preds == y).sum()\n",
    "      num_samples += preds.size(0)\n",
    "    acc = float(num_correct) / num_samples\n",
    "    print('Got %d / %d correct (%.2f)' % (num_correct, num_samples, 100 * acc))\n",
    "  return acc\n",
    "\n",
    "\n",
    "def adjust_learning_rate(optimizer, lrd, epoch, schedule):\n",
    "  \"\"\"\n",
    "  Multiply lrd to the learning rate if epoch is in schedule\n",
    "  \n",
    "  Inputs:\n",
    "  - optimizer: An Optimizer object we will use to train the model\n",
    "  - lrd: learning rate decay; a factor multiplied at scheduled epochs\n",
    "  - epochs: the current epoch number\n",
    "  - schedule: the list of epochs that requires learning rate update\n",
    "  \n",
    "  Returns: Nothing, but learning rate might be updated\n",
    "  \"\"\"\n",
    "  if epoch in schedule:\n",
    "    for param_group in optimizer.param_groups:\n",
    "      print('lr decay from {} to {}'.format(param_group['lr'], param_group['lr'] * lrd))\n",
    "      param_group['lr'] *= lrd\n",
    "\n",
    "\n",
    "def train_part_NEW(model, optimizer, epochs=1, learning_rate_decay=.1, schedule=[], verbose=True):\n",
    "  \"\"\"\n",
    "  Train a model on CIFAR-10 using the PyTorch Module API.\n",
    "  \n",
    "  Inputs:\n",
    "  - model: A PyTorch Module giving the model to train.\n",
    "  - optimizer: An Optimizer object we will use to train the model\n",
    "  - epochs: (Optional) A Python integer giving the number of epochs to train for\n",
    "  \n",
    "  Returns: Nothing, but prints model accuracies during training.\n",
    "  \"\"\"\n",
    "  model = model.to(device='cuda')  # move the model parameters to CPU/GPU\n",
    "  num_iters = epochs * len(trainloader)\n",
    "  print_every = 100\n",
    "  if verbose:\n",
    "    num_prints = num_iters // print_every + 1\n",
    "  else:\n",
    "    num_prints = epochs\n",
    "  acc_history = torch.zeros(num_prints, dtype=to_float)\n",
    "  iter_history = torch.zeros(num_prints, dtype=to_long)\n",
    "  for e in range(epochs):\n",
    "    \n",
    "    adjust_learning_rate(optimizer, learning_rate_decay, e, schedule)\n",
    "    \n",
    "    for t, (x, y) in enumerate(trainloader):\n",
    "      model.train()  # put model to training mode\n",
    "      x = x.to(device='cuda', dtype=to_float)  # move to device, e.g. GPU\n",
    "      y = y.to(device='cuda', dtype=to_long)\n",
    "\n",
    "      scores = model(x)\n",
    "      loss = F.cross_entropy(scores, y)\n",
    "\n",
    "      # Zero out all of the gradients for the variables which the optimizer\n",
    "      # will update.\n",
    "      optimizer.zero_grad()\n",
    "\n",
    "      # This is the backwards pass: compute the gradient of the loss with\n",
    "      # respect to each  parameter of the model.\n",
    "      loss.backward()\n",
    "\n",
    "      # Actually update the parameters of the model using the gradients\n",
    "      # computed by the backwards pass.\n",
    "      optimizer.step()\n",
    "\n",
    "      tt = t + e * len(trainloader)\n",
    "      ee = e + 1\n",
    "      if verbose and (tt % print_every == 0 or (e == epochs-1 and t == len(trainloader)-1)):\n",
    "        print('Epoch %d, Iteration %d, loss = %.4f' % (ee, tt, loss.item()))\n",
    "        acc = check_accuracy_part_NEW(valloader, model)\n",
    "        acc_history[tt // print_every] = acc\n",
    "        iter_history[tt // print_every] = tt\n",
    "        print()\n",
    "      elif not verbose and (t == len(trainloader)-1):\n",
    "        print('Epoch %d, Iteration %d, loss = %.4f' % (ee, tt, loss.item()))\n",
    "        acc = check_accuracy_part_NEW(valloader, model)\n",
    "        acc_history[e] = acc\n",
    "        iter_history[e] = tt\n",
    "        print()\n",
    "  \n",
    "  torch.save(model.state_dict(), \"model\"+str(acc)+\"%.pt\")\n",
    "  print('Save model weight')\n",
    "\n",
    "  return acc_history, iter_history"
   ]
  },
  {
   "cell_type": "markdown",
   "metadata": {},
   "source": [
    "# Weight init"
   ]
  },
  {
   "cell_type": "code",
   "execution_count": 39,
   "metadata": {},
   "outputs": [],
   "source": [
    "def weights_init(m):\n",
    "    classname = m.__class__.__name__\n",
    "    if classname.find('Conv') != -1:\n",
    "        #print(\"kaiming init success\")\n",
    "        torch.nn.init.kaiming_uniform_(m.weight)"
   ]
  },
  {
   "cell_type": "markdown",
   "metadata": {},
   "source": [
    "# Start trainning"
   ]
  },
  {
   "cell_type": "code",
   "execution_count": 40,
   "metadata": {
    "scrolled": false
   },
   "outputs": [
    {
     "name": "stdout",
     "output_type": "stream",
     "text": [
      "myresnet \n",
      "\n",
      "ResidualBottleneckBlock(\n",
      "  (block): Sequential(\n",
      "    (0): BatchNorm2d(3, eps=1e-05, momentum=0.1, affine=True, track_running_stats=True)\n",
      "    (1): ReLU()\n",
      "    (2): Conv2d(3, 2, kernel_size=(1, 1), stride=(1, 1))\n",
      "    (3): BatchNorm2d(2, eps=1e-05, momentum=0.1, affine=True, track_running_stats=True)\n",
      "    (4): ReLU()\n",
      "    (5): Conv2d(2, 2, kernel_size=(3, 3), stride=(2, 2), padding=(1, 1))\n",
      "    (6): BatchNorm2d(2, eps=1e-05, momentum=0.1, affine=True, track_running_stats=True)\n",
      "    (7): ReLU()\n",
      "    (8): Conv2d(2, 10, kernel_size=(1, 1), stride=(1, 1))\n",
      "  )\n",
      "  (shortcut): Conv2d(3, 10, kernel_size=(1, 1), stride=(2, 2))\n",
      ")\n",
      "Epoch 1, Iteration 351, loss = 3.4892\n",
      "Got 734 / 5000 correct (14.68)\n",
      "\n",
      "Epoch 2, Iteration 703, loss = 3.0820\n",
      "Got 1027 / 5000 correct (20.54)\n",
      "\n",
      "Epoch 3, Iteration 1055, loss = 2.9665\n",
      "Got 1241 / 5000 correct (24.82)\n",
      "\n",
      "Epoch 4, Iteration 1407, loss = 2.8360\n",
      "Got 1458 / 5000 correct (29.16)\n",
      "\n",
      "Epoch 5, Iteration 1759, loss = 2.0483\n",
      "Got 1638 / 5000 correct (32.76)\n",
      "\n",
      "Epoch 6, Iteration 2111, loss = 2.4774\n",
      "Got 1670 / 5000 correct (33.40)\n",
      "\n",
      "Epoch 7, Iteration 2463, loss = 1.9325\n",
      "Got 1735 / 5000 correct (34.70)\n",
      "\n",
      "Epoch 8, Iteration 2815, loss = 1.9927\n",
      "Got 2027 / 5000 correct (40.54)\n",
      "\n",
      "Epoch 9, Iteration 3167, loss = 1.9821\n",
      "Got 2120 / 5000 correct (42.40)\n",
      "\n",
      "Epoch 10, Iteration 3519, loss = 1.8857\n",
      "Got 2071 / 5000 correct (41.42)\n",
      "\n",
      "Epoch 11, Iteration 3871, loss = 1.9011\n",
      "Got 2246 / 5000 correct (44.92)\n",
      "\n",
      "Epoch 12, Iteration 4223, loss = 2.0574\n",
      "Got 2345 / 5000 correct (46.90)\n",
      "\n",
      "Epoch 13, Iteration 4575, loss = 1.9420\n",
      "Got 2425 / 5000 correct (48.50)\n",
      "\n",
      "Epoch 14, Iteration 4927, loss = 1.6889\n",
      "Got 2482 / 5000 correct (49.64)\n",
      "\n",
      "Epoch 15, Iteration 5279, loss = 1.7114\n",
      "Got 2527 / 5000 correct (50.54)\n",
      "\n",
      "Epoch 16, Iteration 5631, loss = 1.4734\n",
      "Got 2465 / 5000 correct (49.30)\n",
      "\n",
      "Epoch 17, Iteration 5983, loss = 1.3216\n",
      "Got 2605 / 5000 correct (52.10)\n",
      "\n",
      "Epoch 18, Iteration 6335, loss = 1.2996\n",
      "Got 2648 / 5000 correct (52.96)\n",
      "\n",
      "Epoch 19, Iteration 6687, loss = 1.3333\n",
      "Got 2601 / 5000 correct (52.02)\n",
      "\n",
      "Epoch 20, Iteration 7039, loss = 1.5200\n",
      "Got 2710 / 5000 correct (54.20)\n",
      "\n",
      "Epoch 21, Iteration 7391, loss = 1.3369\n",
      "Got 2632 / 5000 correct (52.64)\n",
      "\n",
      "Epoch 22, Iteration 7743, loss = 0.9995\n",
      "Got 2691 / 5000 correct (53.82)\n",
      "\n",
      "Epoch 23, Iteration 8095, loss = 1.5249\n",
      "Got 2714 / 5000 correct (54.28)\n",
      "\n",
      "Epoch 24, Iteration 8447, loss = 1.0322\n",
      "Got 2771 / 5000 correct (55.42)\n",
      "\n",
      "Epoch 25, Iteration 8799, loss = 0.9650\n",
      "Got 2689 / 5000 correct (53.78)\n",
      "\n",
      "Epoch 26, Iteration 9151, loss = 1.1117\n",
      "Got 2766 / 5000 correct (55.32)\n",
      "\n",
      "Epoch 27, Iteration 9503, loss = 1.0096\n",
      "Got 2820 / 5000 correct (56.40)\n",
      "\n",
      "Epoch 28, Iteration 9855, loss = 1.0307\n",
      "Got 2767 / 5000 correct (55.34)\n",
      "\n",
      "Epoch 29, Iteration 10207, loss = 1.1352\n",
      "Got 2725 / 5000 correct (54.50)\n",
      "\n",
      "Epoch 30, Iteration 10559, loss = 1.1157\n",
      "Got 2838 / 5000 correct (56.76)\n",
      "\n",
      "Epoch 31, Iteration 10911, loss = 1.0269\n",
      "Got 2867 / 5000 correct (57.34)\n",
      "\n",
      "Epoch 32, Iteration 11263, loss = 0.9440\n",
      "Got 2856 / 5000 correct (57.12)\n",
      "\n",
      "Epoch 33, Iteration 11615, loss = 0.7194\n",
      "Got 2861 / 5000 correct (57.22)\n",
      "\n",
      "Epoch 34, Iteration 11967, loss = 0.9684\n",
      "Got 2812 / 5000 correct (56.24)\n",
      "\n",
      "Epoch 35, Iteration 12319, loss = 0.9179\n",
      "Got 2902 / 5000 correct (58.04)\n",
      "\n",
      "Epoch 36, Iteration 12671, loss = 1.0066\n",
      "Got 2820 / 5000 correct (56.40)\n",
      "\n",
      "Epoch 37, Iteration 13023, loss = 0.7893\n",
      "Got 2956 / 5000 correct (59.12)\n",
      "\n",
      "Epoch 38, Iteration 13375, loss = 0.7943\n",
      "Got 2838 / 5000 correct (56.76)\n",
      "\n",
      "Epoch 39, Iteration 13727, loss = 0.8617\n",
      "Got 2847 / 5000 correct (56.94)\n",
      "\n",
      "Epoch 40, Iteration 14079, loss = 0.5777\n",
      "Got 2842 / 5000 correct (56.84)\n",
      "\n",
      "Epoch 41, Iteration 14431, loss = 0.9071\n",
      "Got 2922 / 5000 correct (58.44)\n",
      "\n",
      "Epoch 42, Iteration 14783, loss = 0.6992\n",
      "Got 2834 / 5000 correct (56.68)\n",
      "\n",
      "Epoch 43, Iteration 15135, loss = 0.6370\n",
      "Got 2881 / 5000 correct (57.62)\n",
      "\n",
      "Epoch 44, Iteration 15487, loss = 0.9840\n",
      "Got 2916 / 5000 correct (58.32)\n",
      "\n",
      "Epoch 45, Iteration 15839, loss = 1.0047\n",
      "Got 2852 / 5000 correct (57.04)\n",
      "\n",
      "Epoch 46, Iteration 16191, loss = 0.6105\n",
      "Got 2898 / 5000 correct (57.96)\n",
      "\n",
      "Epoch 47, Iteration 16543, loss = 0.7055\n",
      "Got 2915 / 5000 correct (58.30)\n",
      "\n",
      "Epoch 48, Iteration 16895, loss = 0.8214\n",
      "Got 2868 / 5000 correct (57.36)\n",
      "\n",
      "Epoch 49, Iteration 17247, loss = 0.5873\n",
      "Got 2885 / 5000 correct (57.70)\n",
      "\n",
      "Epoch 50, Iteration 17599, loss = 0.7906\n",
      "Got 2942 / 5000 correct (58.84)\n",
      "\n",
      "Epoch 51, Iteration 17951, loss = 0.4434\n",
      "Got 2924 / 5000 correct (58.48)\n",
      "\n",
      "Epoch 52, Iteration 18303, loss = 0.6895\n",
      "Got 2847 / 5000 correct (56.94)\n",
      "\n",
      "Epoch 53, Iteration 18655, loss = 0.6848\n",
      "Got 2894 / 5000 correct (57.88)\n",
      "\n",
      "Epoch 54, Iteration 19007, loss = 0.5107\n",
      "Got 2909 / 5000 correct (58.18)\n",
      "\n",
      "Epoch 55, Iteration 19359, loss = 0.7695\n",
      "Got 2957 / 5000 correct (59.14)\n",
      "\n",
      "Epoch 56, Iteration 19711, loss = 0.5450\n",
      "Got 2964 / 5000 correct (59.28)\n",
      "\n",
      "Epoch 57, Iteration 20063, loss = 0.5825\n",
      "Got 2867 / 5000 correct (57.34)\n",
      "\n",
      "Epoch 58, Iteration 20415, loss = 0.3707\n",
      "Got 2936 / 5000 correct (58.72)\n",
      "\n",
      "Epoch 59, Iteration 20767, loss = 0.7903\n",
      "Got 2922 / 5000 correct (58.44)\n",
      "\n",
      "Epoch 60, Iteration 21119, loss = 0.4293\n",
      "Got 2886 / 5000 correct (57.72)\n",
      "\n",
      "lr decay from 0.01 to 0.001\n",
      "Epoch 61, Iteration 21471, loss = 0.2504\n",
      "Got 3339 / 5000 correct (66.78)\n",
      "\n",
      "Epoch 62, Iteration 21823, loss = 0.1724\n",
      "Got 3342 / 5000 correct (66.84)\n",
      "\n",
      "Epoch 63, Iteration 22175, loss = 0.1741\n",
      "Got 3386 / 5000 correct (67.72)\n",
      "\n",
      "Epoch 64, Iteration 22527, loss = 0.1399\n",
      "Got 3339 / 5000 correct (66.78)\n",
      "\n",
      "Epoch 65, Iteration 22879, loss = 0.1440\n",
      "Got 3377 / 5000 correct (67.54)\n",
      "\n",
      "Epoch 66, Iteration 23231, loss = 0.1227\n",
      "Got 3361 / 5000 correct (67.22)\n",
      "\n",
      "Epoch 67, Iteration 23583, loss = 0.0800\n",
      "Got 3366 / 5000 correct (67.32)\n",
      "\n",
      "Epoch 68, Iteration 23935, loss = 0.1286\n",
      "Got 3344 / 5000 correct (66.88)\n",
      "\n",
      "Epoch 69, Iteration 24287, loss = 0.0322\n",
      "Got 3394 / 5000 correct (67.88)\n",
      "\n",
      "Epoch 70, Iteration 24639, loss = 0.0918\n",
      "Got 3352 / 5000 correct (67.04)\n",
      "\n",
      "Epoch 71, Iteration 24991, loss = 0.1284\n",
      "Got 3384 / 5000 correct (67.68)\n",
      "\n",
      "Epoch 72, Iteration 25343, loss = 0.2009\n",
      "Got 3338 / 5000 correct (66.76)\n",
      "\n",
      "Epoch 73, Iteration 25695, loss = 0.1329\n",
      "Got 3373 / 5000 correct (67.46)\n",
      "\n",
      "Epoch 74, Iteration 26047, loss = 0.1029\n",
      "Got 3352 / 5000 correct (67.04)\n",
      "\n",
      "Epoch 75, Iteration 26399, loss = 0.1575\n",
      "Got 3389 / 5000 correct (67.78)\n",
      "\n",
      "Epoch 76, Iteration 26751, loss = 0.2124\n",
      "Got 3373 / 5000 correct (67.46)\n",
      "\n",
      "Epoch 77, Iteration 27103, loss = 0.0921\n",
      "Got 3368 / 5000 correct (67.36)\n",
      "\n",
      "Epoch 78, Iteration 27455, loss = 0.0859\n",
      "Got 3359 / 5000 correct (67.18)\n",
      "\n",
      "Epoch 79, Iteration 27807, loss = 0.1189\n",
      "Got 3366 / 5000 correct (67.32)\n",
      "\n",
      "Epoch 80, Iteration 28159, loss = 0.0484\n",
      "Got 3332 / 5000 correct (66.64)\n",
      "\n",
      "Epoch 81, Iteration 28511, loss = 0.1237\n",
      "Got 3385 / 5000 correct (67.70)\n",
      "\n",
      "Epoch 82, Iteration 28863, loss = 0.0990\n",
      "Got 3340 / 5000 correct (66.80)\n",
      "\n",
      "Epoch 83, Iteration 29215, loss = 0.0668\n",
      "Got 3372 / 5000 correct (67.44)\n",
      "\n",
      "Epoch 84, Iteration 29567, loss = 0.0698\n",
      "Got 3379 / 5000 correct (67.58)\n",
      "\n",
      "Epoch 85, Iteration 29919, loss = 0.0496\n",
      "Got 3344 / 5000 correct (66.88)\n",
      "\n",
      "Epoch 86, Iteration 30271, loss = 0.0975\n",
      "Got 3355 / 5000 correct (67.10)\n",
      "\n",
      "Epoch 87, Iteration 30623, loss = 0.0584\n",
      "Got 3332 / 5000 correct (66.64)\n",
      "\n",
      "Epoch 88, Iteration 30975, loss = 0.0495\n",
      "Got 3349 / 5000 correct (66.98)\n",
      "\n",
      "Epoch 89, Iteration 31327, loss = 0.0546\n",
      "Got 3339 / 5000 correct (66.78)\n",
      "\n",
      "Epoch 90, Iteration 31679, loss = 0.1484\n",
      "Got 3334 / 5000 correct (66.68)\n",
      "\n",
      "Epoch 91, Iteration 32031, loss = 0.0912\n",
      "Got 3319 / 5000 correct (66.38)\n",
      "\n",
      "Epoch 92, Iteration 32383, loss = 0.1343\n",
      "Got 3314 / 5000 correct (66.28)\n",
      "\n",
      "Epoch 93, Iteration 32735, loss = 0.0972\n",
      "Got 3376 / 5000 correct (67.52)\n",
      "\n",
      "Epoch 94, Iteration 33087, loss = 0.0347\n",
      "Got 3350 / 5000 correct (67.00)\n",
      "\n",
      "Epoch 95, Iteration 33439, loss = 0.0760\n",
      "Got 3335 / 5000 correct (66.70)\n",
      "\n",
      "Epoch 96, Iteration 33791, loss = 0.0554\n",
      "Got 3306 / 5000 correct (66.12)\n",
      "\n",
      "Epoch 97, Iteration 34143, loss = 0.0537\n",
      "Got 3369 / 5000 correct (67.38)\n",
      "\n",
      "Epoch 98, Iteration 34495, loss = 0.0365\n",
      "Got 3333 / 5000 correct (66.66)\n",
      "\n",
      "Epoch 99, Iteration 34847, loss = 0.0975\n",
      "Got 3333 / 5000 correct (66.66)\n",
      "\n",
      "Epoch 100, Iteration 35199, loss = 0.0624\n",
      "Got 3325 / 5000 correct (66.50)\n",
      "\n",
      "Epoch 101, Iteration 35551, loss = 0.0589\n",
      "Got 3350 / 5000 correct (67.00)\n",
      "\n",
      "Epoch 102, Iteration 35903, loss = 0.0290\n",
      "Got 3328 / 5000 correct (66.56)\n",
      "\n",
      "Epoch 103, Iteration 36255, loss = 0.1148\n"
     ]
    },
    {
     "name": "stdout",
     "output_type": "stream",
     "text": [
      "Got 3304 / 5000 correct (66.08)\n",
      "\n",
      "Epoch 104, Iteration 36607, loss = 0.0204\n",
      "Got 3326 / 5000 correct (66.52)\n",
      "\n",
      "Epoch 105, Iteration 36959, loss = 0.0695\n",
      "Got 3369 / 5000 correct (67.38)\n",
      "\n",
      "Epoch 106, Iteration 37311, loss = 0.0443\n",
      "Got 3356 / 5000 correct (67.12)\n",
      "\n",
      "Epoch 107, Iteration 37663, loss = 0.0262\n",
      "Got 3275 / 5000 correct (65.50)\n",
      "\n",
      "Epoch 108, Iteration 38015, loss = 0.0708\n",
      "Got 3352 / 5000 correct (67.04)\n",
      "\n",
      "Epoch 109, Iteration 38367, loss = 0.0239\n",
      "Got 3355 / 5000 correct (67.10)\n",
      "\n",
      "Epoch 110, Iteration 38719, loss = 0.0642\n",
      "Got 3348 / 5000 correct (66.96)\n",
      "\n",
      "Epoch 111, Iteration 39071, loss = 0.0389\n",
      "Got 3306 / 5000 correct (66.12)\n",
      "\n",
      "Epoch 112, Iteration 39423, loss = 0.0513\n",
      "Got 3342 / 5000 correct (66.84)\n",
      "\n",
      "Epoch 113, Iteration 39775, loss = 0.0644\n",
      "Got 3372 / 5000 correct (67.44)\n",
      "\n",
      "Epoch 114, Iteration 40127, loss = 0.0292\n",
      "Got 3326 / 5000 correct (66.52)\n",
      "\n",
      "Epoch 115, Iteration 40479, loss = 0.0238\n",
      "Got 3311 / 5000 correct (66.22)\n",
      "\n",
      "Epoch 116, Iteration 40831, loss = 0.0436\n",
      "Got 3324 / 5000 correct (66.48)\n",
      "\n",
      "Epoch 117, Iteration 41183, loss = 0.0865\n",
      "Got 3322 / 5000 correct (66.44)\n",
      "\n",
      "Epoch 118, Iteration 41535, loss = 0.0315\n",
      "Got 3362 / 5000 correct (67.24)\n",
      "\n",
      "Epoch 119, Iteration 41887, loss = 0.0240\n",
      "Got 3353 / 5000 correct (67.06)\n",
      "\n",
      "Epoch 120, Iteration 42239, loss = 0.0287\n",
      "Got 3352 / 5000 correct (67.04)\n",
      "\n",
      "lr decay from 0.001 to 0.0001\n",
      "Epoch 121, Iteration 42591, loss = 0.0429\n",
      "Got 3377 / 5000 correct (67.54)\n",
      "\n",
      "Epoch 122, Iteration 42943, loss = 0.0495\n",
      "Got 3342 / 5000 correct (66.84)\n",
      "\n",
      "Epoch 123, Iteration 43295, loss = 0.0735\n",
      "Got 3351 / 5000 correct (67.02)\n",
      "\n",
      "Epoch 124, Iteration 43647, loss = 0.0296\n",
      "Got 3346 / 5000 correct (66.92)\n",
      "\n",
      "Epoch 125, Iteration 43999, loss = 0.0234\n",
      "Got 3340 / 5000 correct (66.80)\n",
      "\n",
      "Epoch 126, Iteration 44351, loss = 0.0253\n",
      "Got 3349 / 5000 correct (66.98)\n",
      "\n",
      "Epoch 127, Iteration 44703, loss = 0.0254\n",
      "Got 3332 / 5000 correct (66.64)\n",
      "\n",
      "Epoch 128, Iteration 45055, loss = 0.0450\n",
      "Got 3347 / 5000 correct (66.94)\n",
      "\n",
      "Epoch 129, Iteration 45407, loss = 0.0359\n",
      "Got 3339 / 5000 correct (66.78)\n",
      "\n",
      "Epoch 130, Iteration 45759, loss = 0.0465\n",
      "Got 3328 / 5000 correct (66.56)\n",
      "\n",
      "Epoch 131, Iteration 46111, loss = 0.1235\n",
      "Got 3323 / 5000 correct (66.46)\n",
      "\n",
      "Epoch 132, Iteration 46463, loss = 0.0578\n",
      "Got 3366 / 5000 correct (67.32)\n",
      "\n",
      "Epoch 133, Iteration 46815, loss = 0.0276\n",
      "Got 3338 / 5000 correct (66.76)\n",
      "\n",
      "Epoch 134, Iteration 47167, loss = 0.0627\n",
      "Got 3374 / 5000 correct (67.48)\n",
      "\n",
      "Epoch 135, Iteration 47519, loss = 0.0477\n",
      "Got 3369 / 5000 correct (67.38)\n",
      "\n",
      "Epoch 136, Iteration 47871, loss = 0.0111\n",
      "Got 3365 / 5000 correct (67.30)\n",
      "\n",
      "Epoch 137, Iteration 48223, loss = 0.1042\n",
      "Got 3365 / 5000 correct (67.30)\n",
      "\n",
      "Epoch 138, Iteration 48575, loss = 0.0294\n",
      "Got 3312 / 5000 correct (66.24)\n",
      "\n",
      "Epoch 139, Iteration 48927, loss = 0.0293\n",
      "Got 3328 / 5000 correct (66.56)\n",
      "\n",
      "Epoch 140, Iteration 49279, loss = 0.0337\n",
      "Got 3378 / 5000 correct (67.56)\n",
      "\n",
      "Epoch 141, Iteration 49631, loss = 0.0249\n",
      "Got 3349 / 5000 correct (66.98)\n",
      "\n",
      "Epoch 142, Iteration 49983, loss = 0.0658\n",
      "Got 3358 / 5000 correct (67.16)\n",
      "\n",
      "Epoch 143, Iteration 50335, loss = 0.0398\n",
      "Got 3337 / 5000 correct (66.74)\n",
      "\n",
      "Epoch 144, Iteration 50687, loss = 0.0348\n",
      "Got 3370 / 5000 correct (67.40)\n",
      "\n",
      "Epoch 145, Iteration 51039, loss = 0.0534\n",
      "Got 3343 / 5000 correct (66.86)\n",
      "\n",
      "Epoch 146, Iteration 51391, loss = 0.0223\n",
      "Got 3378 / 5000 correct (67.56)\n",
      "\n",
      "Epoch 147, Iteration 51743, loss = 0.0718\n",
      "Got 3347 / 5000 correct (66.94)\n",
      "\n",
      "Epoch 148, Iteration 52095, loss = 0.0144\n",
      "Got 3340 / 5000 correct (66.80)\n",
      "\n",
      "Epoch 149, Iteration 52447, loss = 0.0321\n",
      "Got 3377 / 5000 correct (67.54)\n",
      "\n",
      "Epoch 150, Iteration 52799, loss = 0.0341\n",
      "Got 3366 / 5000 correct (67.32)\n",
      "\n",
      "Epoch 151, Iteration 53151, loss = 0.0213\n",
      "Got 3347 / 5000 correct (66.94)\n",
      "\n",
      "Epoch 152, Iteration 53503, loss = 0.0518\n",
      "Got 3329 / 5000 correct (66.58)\n",
      "\n",
      "Epoch 153, Iteration 53855, loss = 0.0790\n",
      "Got 3339 / 5000 correct (66.78)\n",
      "\n",
      "Epoch 154, Iteration 54207, loss = 0.0338\n",
      "Got 3334 / 5000 correct (66.68)\n",
      "\n",
      "Epoch 155, Iteration 54559, loss = 0.0156\n",
      "Got 3356 / 5000 correct (67.12)\n",
      "\n",
      "Epoch 156, Iteration 54911, loss = 0.0206\n",
      "Got 3346 / 5000 correct (66.92)\n",
      "\n",
      "Epoch 157, Iteration 55263, loss = 0.0560\n",
      "Got 3345 / 5000 correct (66.90)\n",
      "\n",
      "Epoch 158, Iteration 55615, loss = 0.0362\n",
      "Got 3352 / 5000 correct (67.04)\n",
      "\n",
      "Epoch 159, Iteration 55967, loss = 0.0329\n",
      "Got 3375 / 5000 correct (67.50)\n",
      "\n",
      "Epoch 160, Iteration 56319, loss = 0.0249\n",
      "Got 3360 / 5000 correct (67.20)\n",
      "\n",
      "lr decay from 0.0001 to 1e-05\n",
      "Epoch 161, Iteration 56671, loss = 0.0312\n",
      "Got 3355 / 5000 correct (67.10)\n",
      "\n",
      "Epoch 162, Iteration 57023, loss = 0.0372\n",
      "Got 3345 / 5000 correct (66.90)\n",
      "\n",
      "Epoch 163, Iteration 57375, loss = 0.0401\n",
      "Got 3366 / 5000 correct (67.32)\n",
      "\n",
      "Epoch 164, Iteration 57727, loss = 0.0375\n",
      "Got 3346 / 5000 correct (66.92)\n",
      "\n",
      "Epoch 165, Iteration 58079, loss = 0.0131\n",
      "Got 3356 / 5000 correct (67.12)\n",
      "\n",
      "Epoch 166, Iteration 58431, loss = 0.0498\n",
      "Got 3356 / 5000 correct (67.12)\n",
      "\n",
      "Epoch 167, Iteration 58783, loss = 0.0636\n",
      "Got 3332 / 5000 correct (66.64)\n",
      "\n",
      "Epoch 168, Iteration 59135, loss = 0.0135\n",
      "Got 3343 / 5000 correct (66.86)\n",
      "\n",
      "Epoch 169, Iteration 59487, loss = 0.0316\n",
      "Got 3329 / 5000 correct (66.58)\n",
      "\n",
      "Epoch 170, Iteration 59839, loss = 0.0420\n",
      "Got 3337 / 5000 correct (66.74)\n",
      "\n",
      "Epoch 171, Iteration 60191, loss = 0.0376\n",
      "Got 3315 / 5000 correct (66.30)\n",
      "\n",
      "Epoch 172, Iteration 60543, loss = 0.0303\n",
      "Got 3303 / 5000 correct (66.06)\n",
      "\n",
      "Epoch 173, Iteration 60895, loss = 0.0222\n",
      "Got 3314 / 5000 correct (66.28)\n",
      "\n",
      "Epoch 174, Iteration 61247, loss = 0.0628\n",
      "Got 3344 / 5000 correct (66.88)\n",
      "\n",
      "Epoch 175, Iteration 61599, loss = 0.0415\n",
      "Got 3337 / 5000 correct (66.74)\n",
      "\n",
      "Epoch 176, Iteration 61951, loss = 0.0308\n",
      "Got 3341 / 5000 correct (66.82)\n",
      "\n",
      "Epoch 177, Iteration 62303, loss = 0.0268\n",
      "Got 3336 / 5000 correct (66.72)\n",
      "\n",
      "Epoch 178, Iteration 62655, loss = 0.0494\n",
      "Got 3357 / 5000 correct (67.14)\n",
      "\n",
      "Epoch 179, Iteration 63007, loss = 0.0295\n",
      "Got 3336 / 5000 correct (66.72)\n",
      "\n",
      "Epoch 180, Iteration 63359, loss = 0.0158\n",
      "Got 3355 / 5000 correct (67.10)\n",
      "\n",
      "Epoch 181, Iteration 63711, loss = 0.0420\n",
      "Got 3361 / 5000 correct (67.22)\n",
      "\n",
      "Epoch 182, Iteration 64063, loss = 0.0712\n",
      "Got 3329 / 5000 correct (66.58)\n",
      "\n",
      "Epoch 183, Iteration 64415, loss = 0.0267\n",
      "Got 3341 / 5000 correct (66.82)\n",
      "\n",
      "Epoch 184, Iteration 64767, loss = 0.0311\n",
      "Got 3352 / 5000 correct (67.04)\n",
      "\n",
      "Epoch 185, Iteration 65119, loss = 0.0246\n",
      "Got 3326 / 5000 correct (66.52)\n",
      "\n",
      "Epoch 186, Iteration 65471, loss = 0.0474\n",
      "Got 3359 / 5000 correct (67.18)\n",
      "\n",
      "Epoch 187, Iteration 65823, loss = 0.0583\n",
      "Got 3396 / 5000 correct (67.92)\n",
      "\n",
      "Epoch 188, Iteration 66175, loss = 0.0549\n",
      "Got 3348 / 5000 correct (66.96)\n",
      "\n",
      "Epoch 189, Iteration 66527, loss = 0.0156\n",
      "Got 3387 / 5000 correct (67.74)\n",
      "\n",
      "Epoch 190, Iteration 66879, loss = 0.0298\n",
      "Got 3360 / 5000 correct (67.20)\n",
      "\n",
      "Epoch 191, Iteration 67231, loss = 0.0324\n",
      "Got 3355 / 5000 correct (67.10)\n",
      "\n",
      "Epoch 192, Iteration 67583, loss = 0.0254\n",
      "Got 3368 / 5000 correct (67.36)\n",
      "\n",
      "Epoch 193, Iteration 67935, loss = 0.0614\n",
      "Got 3349 / 5000 correct (66.98)\n",
      "\n",
      "Epoch 194, Iteration 68287, loss = 0.0771\n",
      "Got 3364 / 5000 correct (67.28)\n",
      "\n",
      "Epoch 195, Iteration 68639, loss = 0.0114\n",
      "Got 3364 / 5000 correct (67.28)\n",
      "\n",
      "Epoch 196, Iteration 68991, loss = 0.0121\n",
      "Got 3375 / 5000 correct (67.50)\n",
      "\n",
      "Epoch 197, Iteration 69343, loss = 0.0261\n",
      "Got 3354 / 5000 correct (67.08)\n",
      "\n",
      "Epoch 198, Iteration 69695, loss = 0.0518\n",
      "Got 3350 / 5000 correct (67.00)\n",
      "\n",
      "Epoch 199, Iteration 70047, loss = 0.0155\n",
      "Got 3350 / 5000 correct (67.00)\n",
      "\n",
      "Epoch 200, Iteration 70399, loss = 0.0273\n",
      "Got 3357 / 5000 correct (67.14)\n",
      "\n",
      "Save model weight\n"
     ]
    }
   ],
   "source": [
    "networks.update({\n",
    "  'myresnet': {\n",
    "    'block': ResidualBottleneckBlock,\n",
    "    'stage_args': [\n",
    "      (32, 64, 3, False),\n",
    "      (64, 128, 8, True),\n",
    "      (128, 256, 36, True),\n",
    "      (256,512, 3, True),\n",
    "    ],\n",
    "  },\n",
    "})\n",
    "\n",
    "names = ['myresnet']\n",
    "\n",
    "name = names[-1]\n",
    "#reset_seed(0)\n",
    "print(name, '\\n')\n",
    "print(model)\n",
    "model = get_resnet(name)\n",
    "#model.apply(weights_init)\n",
    "optimizer = optim.SGD(model.parameters(), lr=1e-2, momentum=.9, weight_decay=5e-4)\n",
    "#optimizer = optim.Adam(model.parameters(), lr=1e-3)\n",
    "\n",
    "\n",
    "#acc_history, iter_history = train_part_NEW(model, optimizer, epochs=50, schedule=[10, 20, 40, 80], verbose=False)\n",
    "acc_history, iter_history = train_part_NEW(model, optimizer, epochs=200, schedule=[60,120,160], verbose=False)"
   ]
  },
  {
   "cell_type": "code",
   "execution_count": 41,
   "metadata": {},
   "outputs": [],
   "source": [
    "acc_history_dict = {}\n",
    "iter_history_dict = {}\n",
    "acc_history_dict[name] = acc_history\n",
    "iter_history_dict[name] = iter_history"
   ]
  },
  {
   "cell_type": "markdown",
   "metadata": {},
   "source": [
    "# Validation curve"
   ]
  },
  {
   "cell_type": "code",
   "execution_count": 42,
   "metadata": {},
   "outputs": [
    {
     "data": {
      "image/png": "[encoded data removed]",
      "text/plain": [
       "<Figure size 648x288 with 1 Axes>"
      ]
     },
     "metadata": {
      "needs_background": "light"
     },
     "output_type": "display_data"
    }
   ],
   "source": [
    "plt.title('Val accuracies')\n",
    "for name in names:\n",
    "  plt.plot(iter_history_dict[name], acc_history_dict[name], '-o')\n",
    "plt.legend(names, loc='upper left')\n",
    "plt.xlabel('iterations')\n",
    "plt.ylabel('accuracy')\n",
    "plt.gcf().set_size_inches(9, 4)\n",
    "plt.show()"
   ]
  },
  {
   "cell_type": "markdown",
   "metadata": {},
   "source": [
    "# Confusion Matrix¶"
   ]
  },
  {
   "cell_type": "code",
   "execution_count": 43,
   "metadata": {},
   "outputs": [
    {
     "name": "stdout",
     "output_type": "stream",
     "text": [
      "Device:  cuda:0\n",
      "NVIDIA GeForce RTX 3060\n",
      "Train Dataset Accuracy: 0.997822\n",
      "Val. Dataset Accuracy: 0.666600\n",
      "Test Dataset Accuracy: 0.686100\n"
     ]
    }
   ],
   "source": [
    "import torch\n",
    "import torch.nn as nn\n",
    "import torch.nn.functional as F\n",
    "import torch.optim as optim\n",
    "import torchvision\n",
    "import torchvision.transforms as transforms\n",
    "import torchvision.datasets as datasets\n",
    "import matplotlib.pyplot as plt\n",
    "import numpy as np\n",
    "import time\n",
    "from sklearn.metrics import *\n",
    "\n",
    "classes = ['beaver', 'dolphin', 'otter', 'seal', 'whale', \n",
    "'aquarium' ,'fish', 'ray', 'shark', 'trout', \n",
    "'orchids', 'poppies', 'roses', 'sunflowers', 'tulips', \n",
    "'bottles', 'bowls', 'cans', 'cups', 'plates', \n",
    "'apples', 'mushrooms', 'oranges', 'pears', 'sweet peppers', \n",
    "'clock', 'computer keyboard', 'lamp', 'telephone', 'television', 'bed', 'chair', 'couch', 'table', 'wardrobe', \n",
    "'bee', 'beetle', 'butterfly', 'caterpillar', 'cockroach', \n",
    "'bear', 'leopard', 'lion', 'tiger', 'wolf', \n",
    "'bridge', 'castle', 'house', 'road', 'skyscraper', \n",
    "'cloud', 'forest', 'mountain', 'plain', 'sea', \n",
    "'camel', 'cattle', 'chimpanzee', 'elephant', 'kangaroo', \n",
    "'fox', 'porcupine', 'possum', 'raccoon', 'skunk', \n",
    "'crab', 'lobster', 'snail', 'spider', 'worm', \n",
    "'baby', 'boy', 'girl', 'man', 'woman', \n",
    "'crocodile', 'dinosaur', 'lizard', 'snake', 'turtle', \n",
    "'hamster', 'mouse', 'rabbit', 'shrew', 'squirrel', \n",
    "'maple', 'oak', 'palm', 'pine', 'willow', \n",
    "'bicycle', 'bus', 'motorcycle', 'pickup truck', 'train', \n",
    "'lawn-mower', 'rocket', 'streetcar', 'tank', 'tractor']\n",
    "\n",
    "device = torch.device('cuda:0' if torch.cuda.is_available() else 'cpu')\n",
    "print(\"Device: \",device)\n",
    "print(torch.cuda.get_device_name())\n",
    "\n",
    "def test_label_predictions(model, device, testloader):\n",
    "    model.eval()\n",
    "    actuals = []\n",
    "    predictions = []\n",
    "    with torch.no_grad():\n",
    "        for data, target in testloader:\n",
    "            data, target = data.to(device), target.to(device)\n",
    "            output = model(data)\n",
    "            prediction = output.argmax(dim=1, keepdim=True)\n",
    "            actuals.extend(target.view_as(prediction))\n",
    "            predictions.extend(prediction)\n",
    "    return [i.item() for i in actuals], [i.item() for i in predictions]\n",
    "\n",
    "actualsTrain, predictionsTrain = test_label_predictions(model, device, trainloader)\n",
    "print('Train Dataset Accuracy: %f' % accuracy_score(actualsTrain, predictionsTrain))\n",
    "\n",
    "actualsVal, predictionsVal = test_label_predictions(model, device, valloader)\n",
    "print('Val. Dataset Accuracy: %f' % accuracy_score(actualsVal, predictionsVal))\n",
    "\n",
    "actualsTest, predictionsTest = test_label_predictions(model, device, testloader)\n",
    "print('Test Dataset Accuracy: %f' % accuracy_score(actualsTest, predictionsTest))"
   ]
  },
  {
   "cell_type": "code",
   "execution_count": 44,
   "metadata": {},
   "outputs": [
    {
     "name": "stdout",
     "output_type": "stream",
     "text": [
      "[[86  0  0 ...  0  0  0]\n",
      " [ 0 82  0 ...  0  0  0]\n",
      " [ 0  1 58 ...  0  5  0]\n",
      " ...\n",
      " [ 0  0  0 ... 71  0  0]\n",
      " [ 0  0  1 ...  0 56  0]\n",
      " [ 0  1  0 ...  0  0 73]]\n"
     ]
    },
    {
     "name": "stderr",
     "output_type": "stream",
     "text": [
      "<ipython-input-44-d3c06be9dcde>:8: UserWarning: FixedFormatter should only be used together with FixedLocator\n",
      "  ax.set_xticklabels([''] + classes)\n",
      "<ipython-input-44-d3c06be9dcde>:9: UserWarning: FixedFormatter should only be used together with FixedLocator\n",
      "  ax.set_yticklabels([''] + classes)\n"
     ]
    },
    {
     "data": {
      "text/plain": [
       "Text(0, 0.5, 'True')"
      ]
     },
     "execution_count": 44,
     "metadata": {},
     "output_type": "execute_result"
    },
    {
     "data": {
      "image/png": "[encoded data removed]",
      "text/plain": [
       "<Figure size 1728x1728 with 2 Axes>"
      ]
     },
     "metadata": {
      "needs_background": "light"
     },
     "output_type": "display_data"
    }
   ],
   "source": [
    "cm = confusion_matrix(actualsTest, predictionsTest)\n",
    "print(cm)\n",
    "fig = plt.figure(figsize=(24,24))\n",
    "ax = fig.add_subplot(211)\n",
    "cax = ax.matshow(cm)\n",
    "plt.title('Confusion matrix of the classifier')\n",
    "fig.colorbar(cax)\n",
    "ax.set_xticklabels([''] + classes)\n",
    "ax.set_yticklabels([''] + classes)\n",
    "plt.xlabel('Predicted')\n",
    "plt.ylabel('True')\n",
    "#plt.show()"
   ]
  },
  {
   "cell_type": "markdown",
   "metadata": {},
   "source": [
    "# Test"
   ]
  },
  {
   "cell_type": "code",
   "execution_count": 46,
   "metadata": {},
   "outputs": [
    {
     "name": "stdout",
     "output_type": "stream",
     "text": [
      "myresnet \n",
      "\n",
      "Got 967 / 1000 correct (96.70)\n"
     ]
    }
   ],
   "source": [
    "import h5py  \n",
    "import numpy as np\n",
    "import torch\n",
    "from torch.utils.data import Dataset\n",
    "#############################################################################\n",
    "# 模型導入\n",
    "names = ['myresnet']\n",
    "name = names[-1]\n",
    "reset_seed(0)\n",
    "print(name, '\\n')\n",
    "model = get_resnet(name)\n",
    "model = model.to(device='cuda')\n",
    "model.load_state_dict(torch.load('model0.6714%.pt')) # 修改成自己的模型權重存檔位置\n",
    "model.eval()\n",
    "#############################################################################\n",
    "# 讀檔\n",
    "f = h5py.File('val.h5','r') # 修改成要測試的數據集\n",
    "Image1 = f['data']\n",
    "Label1 = f['labels']\n",
    "\n",
    "# 定義打包類別\n",
    "class TestDataset(Dataset):\n",
    "  def __init__(self, data_tensor, target_tensor):\n",
    "      self.data_tensor = data_tensor\n",
    "      self.target_tensor = target_tensor\n",
    "  def __getitem__(self, index):\n",
    "      return self.data_tensor[index], self.target_tensor[index]\n",
    "  def __len__(self):\n",
    "      # return self.data_tensor.size(0)\n",
    "      return len(self.data_tensor)\n",
    "\n",
    "# 分割\n",
    "Num_dataset = 10\n",
    "Image1_split = np.split(Image1, Num_dataset)\n",
    "Label1_split = np.split(Label1, Num_dataset)\n",
    "Image1_tensor = torch.Tensor( Image1_split )\n",
    "Label1_tensor = torch.Tensor( Label1_split )\n",
    "data_combine = TestDataset( Image1_tensor, Label1_tensor )\n",
    "\n",
    "# 預測\n",
    "num_correct = 0\n",
    "num_samples = 0\n",
    "for x, y in data_combine:\n",
    "  x = x.to(device='cuda', dtype=to_float)  # move to device, e.g. GPU\n",
    "  y = y.to(device='cuda', dtype=to_long)\n",
    "  scores = model(x)\n",
    "  _, preds = scores.max(1)\n",
    "  num_correct += (preds == y).sum()\n",
    "  num_samples += preds.size(0)\n",
    "acc = float(num_correct) / num_samples\n",
    "print('Got %d / %d correct (%.2f)' % (num_correct, num_samples, 100 * acc))\n",
    "#############################################################################\n",
    "f.close()"
   ]
  },
  {
   "cell_type": "code",
   "execution_count": null,
   "metadata": {},
   "outputs": [],
   "source": []
  }
 ],
 "metadata": {
  "accelerator": "GPU",
  "colab": {
   "collapsed_sections": [],
   "name": "pytorch_autograd_and_nn.ipynb",
   "provenance": [],
   "toc_visible": true
  },
  "kernelspec": {
   "display_name": "Python 3",
   "language": "python",
   "name": "python3"
  },
  "language_info": {
   "codemirror_mode": {
    "name": "ipython",
    "version": 3
   },
   "file_extension": ".py",
   "mimetype": "text/x-python",
   "name": "python",
   "nbconvert_exporter": "python",
   "pygments_lexer": "ipython3",
   "version": "3.8.10"
  },
  "toc": {
   "nav_menu": {},
   "number_sections": true,
   "sideBar": true,
   "skip_h1_title": false,
   "toc_cell": false,
   "toc_position": {},
   "toc_section_display": "block",
   "toc_window_display": false
  },
  "varInspector": {
   "cols": {
    "lenName": 16,
    "lenType": 16,
    "lenVar": 40
   },
   "kernels_config": {
    "python": {
     "delete_cmd_postfix": "",
     "delete_cmd_prefix": "del ",
     "library": "var_list.py",
     "varRefreshCmd": "print(var_dic_list())"
    },
    "r": {
     "delete_cmd_postfix": ") ",
     "delete_cmd_prefix": "rm(",
     "library": "var_list.r",
     "varRefreshCmd": "cat(var_dic_list()) "
    }
   },
   "types_to_exclude": [
    "module",
    "function",
    "builtin_function_or_method",
    "instance",
    "_Feature"
   ],
   "window_display": false
  },
  "widgets": {
   "application/vnd.jupyter.widget-state+json": {
    "4778c4dd77394d679d728db84db7679f": {
     "model_module": "@jupyter-widgets/controls",
     "model_module_version": "1.5.0",
     "model_name": "HBoxModel",
     "state": {
      "_dom_classes": [],
      "_model_module": "@jupyter-widgets/controls",
      "_model_module_version": "1.5.0",
      "_model_name": "HBoxModel",
      "_view_count": null,
      "_view_module": "@jupyter-widgets/controls",
      "_view_module_version": "1.5.0",
      "_view_name": "HBoxView",
      "box_style": "",
      "children": [
       "IPY_MODEL_494d03a0b9cf4fd688854ad09841e378",
       "IPY_MODEL_b1a9bee6a2ee4463b4820c2dad38f4ed"
      ],
      "layout": "IPY_MODEL_ac76373e8f914547a75d450ea167e7ea"
     }
    },
    "494d03a0b9cf4fd688854ad09841e378": {
     "model_module": "@jupyter-widgets/controls",
     "model_module_version": "1.5.0",
     "model_name": "FloatProgressModel",
     "state": {
      "_dom_classes": [],
      "_model_module": "@jupyter-widgets/controls",
      "_model_module_version": "1.5.0",
      "_model_name": "FloatProgressModel",
      "_view_count": null,
      "_view_module": "@jupyter-widgets/controls",
      "_view_module_version": "1.5.0",
      "_view_name": "ProgressView",
      "bar_style": "success",
      "description": "",
      "description_tooltip": null,
      "layout": "IPY_MODEL_e70ce0e685f4411f83c7c373b8eb08b4",
      "max": 170498071,
      "min": 0,
      "orientation": "horizontal",
      "style": "IPY_MODEL_ed640196693c437cbc9a6ef8a1e0073e",
      "value": 170498071
     }
    },
    "ac76373e8f914547a75d450ea167e7ea": {
     "model_module": "@jupyter-widgets/base",
     "model_module_version": "1.2.0",
     "model_name": "LayoutModel",
     "state": {
      "_model_module": "@jupyter-widgets/base",
      "_model_module_version": "1.2.0",
      "_model_name": "LayoutModel",
      "_view_count": null,
      "_view_module": "@jupyter-widgets/base",
      "_view_module_version": "1.2.0",
      "_view_name": "LayoutView",
      "align_content": null,
      "align_items": null,
      "align_self": null,
      "border": null,
      "bottom": null,
      "display": null,
      "flex": null,
      "flex_flow": null,
      "grid_area": null,
      "grid_auto_columns": null,
      "grid_auto_flow": null,
      "grid_auto_rows": null,
      "grid_column": null,
      "grid_gap": null,
      "grid_row": null,
      "grid_template_areas": null,
      "grid_template_columns": null,
      "grid_template_rows": null,
      "height": null,
      "justify_content": null,
      "justify_items": null,
      "left": null,
      "margin": null,
      "max_height": null,
      "max_width": null,
      "min_height": null,
      "min_width": null,
      "object_fit": null,
      "object_position": null,
      "order": null,
      "overflow": null,
      "overflow_x": null,
      "overflow_y": null,
      "padding": null,
      "right": null,
      "top": null,
      "visibility": null,
      "width": null
     }
    },
    "b1a9bee6a2ee4463b4820c2dad38f4ed": {
     "model_module": "@jupyter-widgets/controls",
     "model_module_version": "1.5.0",
     "model_name": "HTMLModel",
     "state": {
      "_dom_classes": [],
      "_model_module": "@jupyter-widgets/controls",
      "_model_module_version": "1.5.0",
      "_model_name": "HTMLModel",
      "_view_count": null,
      "_view_module": "@jupyter-widgets/controls",
      "_view_module_version": "1.5.0",
      "_view_name": "HTMLView",
      "description": "",
      "description_tooltip": null,
      "layout": "IPY_MODEL_ed9e1ad6395e484aba0b71b3c96cbcf2",
      "placeholder": "​",
      "style": "IPY_MODEL_dac6175f79404ff8b1c73964c45cd7bc",
      "value": " 170499072/? [00:17&lt;00:00, 9709627.63it/s]"
     }
    },
    "dac6175f79404ff8b1c73964c45cd7bc": {
     "model_module": "@jupyter-widgets/controls",
     "model_module_version": "1.5.0",
     "model_name": "DescriptionStyleModel",
     "state": {
      "_model_module": "@jupyter-widgets/controls",
      "_model_module_version": "1.5.0",
      "_model_name": "DescriptionStyleModel",
      "_view_count": null,
      "_view_module": "@jupyter-widgets/base",
      "_view_module_version": "1.2.0",
      "_view_name": "StyleView",
      "description_width": ""
     }
    },
    "e70ce0e685f4411f83c7c373b8eb08b4": {
     "model_module": "@jupyter-widgets/base",
     "model_module_version": "1.2.0",
     "model_name": "LayoutModel",
     "state": {
      "_model_module": "@jupyter-widgets/base",
      "_model_module_version": "1.2.0",
      "_model_name": "LayoutModel",
      "_view_count": null,
      "_view_module": "@jupyter-widgets/base",
      "_view_module_version": "1.2.0",
      "_view_name": "LayoutView",
      "align_content": null,
      "align_items": null,
      "align_self": null,
      "border": null,
      "bottom": null,
      "display": null,
      "flex": null,
      "flex_flow": null,
      "grid_area": null,
      "grid_auto_columns": null,
      "grid_auto_flow": null,
      "grid_auto_rows": null,
      "grid_column": null,
      "grid_gap": null,
      "grid_row": null,
      "grid_template_areas": null,
      "grid_template_columns": null,
      "grid_template_rows": null,
      "height": null,
      "justify_content": null,
      "justify_items": null,
      "left": null,
      "margin": null,
      "max_height": null,
      "max_width": null,
      "min_height": null,
      "min_width": null,
      "object_fit": null,
      "object_position": null,
      "order": null,
      "overflow": null,
      "overflow_x": null,
      "overflow_y": null,
      "padding": null,
      "right": null,
      "top": null,
      "visibility": null,
      "width": null
     }
    },
    "ed640196693c437cbc9a6ef8a1e0073e": {
     "model_module": "@jupyter-widgets/controls",
     "model_module_version": "1.5.0",
     "model_name": "ProgressStyleModel",
     "state": {
      "_model_module": "@jupyter-widgets/controls",
      "_model_module_version": "1.5.0",
      "_model_name": "ProgressStyleModel",
      "_view_count": null,
      "_view_module": "@jupyter-widgets/base",
      "_view_module_version": "1.2.0",
      "_view_name": "StyleView",
      "bar_color": null,
      "description_width": "initial"
     }
    },
    "ed9e1ad6395e484aba0b71b3c96cbcf2": {
     "model_module": "@jupyter-widgets/base",
     "model_module_version": "1.2.0",
     "model_name": "LayoutModel",
     "state": {
      "_model_module": "@jupyter-widgets/base",
      "_model_module_version": "1.2.0",
      "_model_name": "LayoutModel",
      "_view_count": null,
      "_view_module": "@jupyter-widgets/base",
      "_view_module_version": "1.2.0",
      "_view_name": "LayoutView",
      "align_content": null,
      "align_items": null,
      "align_self": null,
      "border": null,
      "bottom": null,
      "display": null,
      "flex": null,
      "flex_flow": null,
      "grid_area": null,
      "grid_auto_columns": null,
      "grid_auto_flow": null,
      "grid_auto_rows": null,
      "grid_column": null,
      "grid_gap": null,
      "grid_row": null,
      "grid_template_areas": null,
      "grid_template_columns": null,
      "grid_template_rows": null,
      "height": null,
      "justify_content": null,
      "justify_items": null,
      "left": null,
      "margin": null,
      "max_height": null,
      "max_width": null,
      "min_height": null,
      "min_width": null,
      "object_fit": null,
      "object_position": null,
      "order": null,
      "overflow": null,
      "overflow_x": null,
      "overflow_y": null,
      "padding": null,
      "right": null,
      "top": null,
      "visibility": null,
      "width": null
     }
    }
   }
  }
 },
 "nbformat": 4,
 "nbformat_minor": 41
}
